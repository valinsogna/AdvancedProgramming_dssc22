{
 "cells": [
  {
   "cell_type": "markdown",
   "metadata": {},
   "source": [
    "### **Dictionaries:** (stuff that should have been included in Lecture1)"
   ]
  },
  {
   "cell_type": "markdown",
   "metadata": {},
   "source": [
    "Dictionaries are defined by the following set of rules:\n",
    "\n",
    " - it's an ordered (after pyton 3.7, before they were unordered) set of pairs `key:value`\n",
    " - elements are accessed by key and not by index\n",
    " - keys must be immutable (e.g., boolean, integer, float, tuple, string, not list)\n",
    " - dictionaries themselves are mutable - you can add, delete and change elements"
   ]
  },
  {
   "cell_type": "code",
   "execution_count": null,
   "metadata": {},
   "outputs": [],
   "source": [
    "my_dict = {\n",
    "  \"mykey1\": \"value1\",\n",
    "  \"key2\": 2,\n",
    "  \"key3\": 3.5\n",
    "}"
   ]
  },
  {
   "cell_type": "code",
   "execution_count": null,
   "metadata": {},
   "outputs": [],
   "source": [
    "print(my_dict)"
   ]
  },
  {
   "cell_type": "code",
   "execution_count": null,
   "metadata": {},
   "outputs": [],
   "source": [
    "print(len(my_dict))"
   ]
  },
  {
   "cell_type": "markdown",
   "metadata": {},
   "source": [
    "Another way to construct:"
   ]
  },
  {
   "cell_type": "code",
   "execution_count": null,
   "metadata": {},
   "outputs": [],
   "source": [
    "my_dict2 = dict(name = \"Cat\", age = 177, country = \"Neverland\")\n",
    "print(my_dict2)"
   ]
  },
  {
   "cell_type": "code",
   "execution_count": null,
   "metadata": {},
   "outputs": [],
   "source": [
    "my_dict3 = dict([(1,2),(3,4),(5,6)])\n",
    "print(my_dict3)"
   ]
  },
  {
   "cell_type": "code",
   "execution_count": null,
   "metadata": {},
   "outputs": [],
   "source": [
    "names = [\"Maria\", \"John\", \"Stefano\", \"BunchOfPeople\"]\n",
    "ages = [77, 21, 67, [1, 5, 38, 137]]\n",
    "age_dict = {k: v for k, v in zip(names, ages)}\n",
    "print(age_dict)"
   ]
  },
  {
   "cell_type": "markdown",
   "metadata": {},
   "source": [
    "How to access elements:"
   ]
  },
  {
   "cell_type": "code",
   "execution_count": null,
   "metadata": {},
   "outputs": [],
   "source": [
    "print(my_dict2[\"age\"])"
   ]
  },
  {
   "cell_type": "code",
   "execution_count": null,
   "metadata": {},
   "outputs": [],
   "source": [
    "my_dict2.get(\"name\")"
   ]
  },
  {
   "cell_type": "code",
   "execution_count": null,
   "metadata": {},
   "outputs": [],
   "source": [
    "my_dict2.keys()"
   ]
  },
  {
   "cell_type": "code",
   "execution_count": null,
   "metadata": {},
   "outputs": [],
   "source": [
    "my_dict2.values()"
   ]
  },
  {
   "cell_type": "code",
   "execution_count": null,
   "metadata": {},
   "outputs": [],
   "source": [
    "for x, y in my_dict2.items():\n",
    "    print(x, y) "
   ]
  },
  {
   "cell_type": "markdown",
   "metadata": {},
   "source": [
    "copying (just `=` won't work as it's just a \"label\"): "
   ]
  },
  {
   "cell_type": "code",
   "execution_count": null,
   "metadata": {},
   "outputs": [],
   "source": [
    "my_dict4=my_dict2.copy()\n",
    "print(my_dict4)"
   ]
  },
  {
   "cell_type": "markdown",
   "metadata": {},
   "source": [
    "adding new elements:"
   ]
  },
  {
   "cell_type": "code",
   "execution_count": null,
   "metadata": {},
   "outputs": [],
   "source": [
    "my_dict2[\"color\"]=\"black\"\n",
    "print(my_dict2)"
   ]
  },
  {
   "cell_type": "markdown",
   "metadata": {},
   "source": [
    "modifying elements:"
   ]
  },
  {
   "cell_type": "code",
   "execution_count": null,
   "metadata": {},
   "outputs": [],
   "source": [
    "my_dict2[\"color\"]=\"purple\"\n",
    "print(my_dict2)"
   ]
  },
  {
   "cell_type": "markdown",
   "metadata": {},
   "source": [
    "deleting elements:"
   ]
  },
  {
   "cell_type": "code",
   "execution_count": null,
   "metadata": {},
   "outputs": [],
   "source": [
    "del my_dict2[\"color\"]\n",
    "print(my_dict2)"
   ]
  },
  {
   "cell_type": "markdown",
   "metadata": {},
   "source": [
    "checking if element exists:"
   ]
  },
  {
   "cell_type": "code",
   "execution_count": null,
   "metadata": {},
   "outputs": [],
   "source": [
    "print(\"color\" in my_dict2)\n",
    "print(\"name\" in my_dict2)"
   ]
  },
  {
   "cell_type": "markdown",
   "metadata": {},
   "source": [
    "### **Ctypes**\n",
    "\n",
    "This is better for pure C than for C++, use `pybind` for C++, overwise you need to write too many wrappers"
   ]
  },
  {
   "cell_type": "markdown",
   "metadata": {},
   "source": [
    "First, you need to create a `C` shared library.\n",
    "\n",
    "```g++ -fPIC -shared -o libhellotest.so hello.cpp```\n",
    "\n",
    "where `hello.cpp` constains some functions, for example:\n",
    "\n",
    "```\n",
    "#include <iostream>\n",
    "extern \"C\" {\n",
    "    void hello(){\n",
    "        std::cout<<\"Hello, World!\"<<std::endl;\n",
    "    }\n",
    "}\n",
    "```\n",
    "\n",
    "We can't really use \"real C++\" inside the `extern C`, so no classes, no templates, only functions.\n",
    "\n",
    "The compiler flags `-fPIC -shared` are needed to create the library object (you have seen it with `pybind` already)"
   ]
  },
  {
   "cell_type": "code",
   "execution_count": 1,
   "metadata": {},
   "outputs": [],
   "source": [
    "#install ctypes package in conda\n",
    "import ctypes\n",
    " \n",
    "libObject = ctypes.CDLL('./libhellotest.so')"
   ]
  },
  {
   "cell_type": "code",
   "execution_count": null,
   "metadata": {},
   "outputs": [],
   "source": [
    "libObject.hello()"
   ]
  },
  {
   "cell_type": "markdown",
   "metadata": {},
   "source": [
    "So what was that output? Some undefined number that the function returned, the actual \"Hello, World!\" has been printed to the console (where you have started the jyputer-lab)."
   ]
  },
  {
   "cell_type": "markdown",
   "metadata": {},
   "source": [
    "What if we need to have parameters/return something?\n",
    "\n",
    "Add \n",
    "\n",
    "```\n",
    "int sum(int a, int b){\n",
    "  return a+b;\n",
    "}\n",
    "```\n",
    "\n",
    "to the `hello.cpp` file and then recompile it with: \n",
    "\n",
    "```g++ -fPIC -shared -o libhellotest2.so hello.cpp```"
   ]
  },
  {
   "cell_type": "code",
   "execution_count": null,
   "metadata": {},
   "outputs": [],
   "source": [
    "libObject2 = ctypes.CDLL('./libhellotest2.so')"
   ]
  },
  {
   "cell_type": "code",
   "execution_count": null,
   "metadata": {},
   "outputs": [],
   "source": [
    "libObject2.hello() #just to see that it still works"
   ]
  },
  {
   "cell_type": "code",
   "execution_count": null,
   "metadata": {},
   "outputs": [],
   "source": [
    "libObject2.sum(2,3)"
   ]
  },
  {
   "cell_type": "markdown",
   "metadata": {},
   "source": [
    "This works, but the ctypes had to make a guess about the argument types, so it's very dangerous and you need to actually specify them:"
   ]
  },
  {
   "cell_type": "code",
   "execution_count": null,
   "metadata": {},
   "outputs": [],
   "source": [
    "libObject2.sum.argtypes = [ctypes.c_int, ctypes.c_int]\n",
    "libObject2.sum.restype = ctypes.c_int"
   ]
  },
  {
   "cell_type": "code",
   "execution_count": null,
   "metadata": {},
   "outputs": [],
   "source": [
    "libObject2.sum(2,3)"
   ]
  },
  {
   "cell_type": "markdown",
   "metadata": {},
   "source": [
    "Working with strings:\n",
    "\n",
    "unfortunately, you need pure `C` strings for this to work, not `std::string`, so - char arrays. Let's just create a file (this is overcomplicated cause jupyter doesn't print anythng from C printf): "
   ]
  },
  {
   "cell_type": "code",
   "execution_count": null,
   "metadata": {},
   "outputs": [],
   "source": [
    "%%file strings.cpp\n",
    "\n",
    "#include <iostream>\n",
    "extern \"C\" {\n",
    "    void print(char* str) {\n",
    "       std::cout<<str<<std::endl;\n",
    "    }\n",
    "}"
   ]
  },
  {
   "cell_type": "markdown",
   "metadata": {},
   "source": [
    "compile with\n",
    "\n",
    "```\n",
    "g++ -fPIC -shared -o libstrings.so strings.cpp\n",
    "```"
   ]
  },
  {
   "cell_type": "code",
   "execution_count": null,
   "metadata": {},
   "outputs": [],
   "source": [
    "lo = ctypes.CDLL('./libstrings.so')"
   ]
  },
  {
   "cell_type": "code",
   "execution_count": null,
   "metadata": {},
   "outputs": [],
   "source": [
    "lo.argtypes=[ctypes.c_char_p]"
   ]
  },
  {
   "cell_type": "code",
   "execution_count": null,
   "metadata": {},
   "outputs": [],
   "source": [
    "lo.print(b\"MEOW\")"
   ]
  },
  {
   "cell_type": "code",
   "execution_count": null,
   "metadata": {},
   "outputs": [],
   "source": [
    "cstring =\"MEOW\"\n",
    "lo.print(cstring.encode())"
   ]
  },
  {
   "cell_type": "markdown",
   "metadata": {},
   "source": [
    "Working with arrays:"
   ]
  },
  {
   "cell_type": "code",
   "execution_count": 5,
   "metadata": {},
   "outputs": [
    {
     "name": "stdout",
     "output_type": "stream",
     "text": [
      "Overwriting arrays.cpp\n"
     ]
    }
   ],
   "source": [
    "%%file arrays.cpp\n",
    "\n",
    "#include <iostream>\n",
    "\n",
    "extern \"C\"{\n",
    "    int* create_array(int N) {\n",
    "        int* arr = new int[N];\n",
    "        return arr;\n",
    "    }\n",
    "\n",
    "    void do_something_with_array(int* arr,int N){\n",
    "        for(int i=0;i<N;i++){\n",
    "            arr[i]=i;\n",
    "            std::cout<<arr[i];\n",
    "        }\n",
    "        std::cout<<std::endl;\n",
    "    }\n",
    "    \n",
    "    void delete_array(int* arr) {\n",
    "        delete[] arr;\n",
    "    }\n",
    "}"
   ]
  },
  {
   "cell_type": "code",
   "execution_count": 2,
   "metadata": {},
   "outputs": [],
   "source": [
    "lo = ctypes.CDLL('./libarr.so')"
   ]
  },
  {
   "cell_type": "code",
   "execution_count": 6,
   "metadata": {},
   "outputs": [],
   "source": [
    "lo.create_array.restype=ctypes.POINTER(ctypes.c_int)\n",
    "lo.create_array.argtypes=[ctypes.c_int]\n",
    "lo.do_something_with_array.argtypes=[ctypes.POINTER(ctypes.c_int),ctypes.c_int]\n",
    "lo.delete_array.argtypes=[ctypes.POINTER(ctypes.c_int)]"
   ]
  },
  {
   "cell_type": "code",
   "execution_count": 8,
   "metadata": {},
   "outputs": [
    {
     "data": {
      "text/plain": [
       "0"
      ]
     },
     "execution_count": 8,
     "metadata": {},
     "output_type": "execute_result"
    }
   ],
   "source": [
    "arr=lo.create_array(7)\n",
    "lo.do_something_with_array(arr,7)\n",
    "lo.delete_array(arr)"
   ]
  },
  {
   "cell_type": "markdown",
   "metadata": {},
   "source": [
    "This is obviously a huge memory leak danger, you might want to combine those functions inside the C code."
   ]
  },
  {
   "cell_type": "markdown",
   "metadata": {},
   "source": [
    "Even if wrapping C++ classes might be a huge pain, you can still just call the whole program and hide all the templates and classes inside that."
   ]
  },
  {
   "cell_type": "code",
   "execution_count": 9,
   "metadata": {},
   "outputs": [],
   "source": [
    "lo=ctypes.CDLL('./libshapes.so')"
   ]
  },
  {
   "cell_type": "code",
   "execution_count": 10,
   "metadata": {},
   "outputs": [
    {
     "data": {
      "text/plain": [
       "0"
      ]
     },
     "execution_count": 10,
     "metadata": {},
     "output_type": "execute_result"
    }
   ],
   "source": [
    "lo.NOT_main()"
   ]
  },
  {
   "cell_type": "code",
   "execution_count": null,
   "metadata": {},
   "outputs": [],
   "source": []
  }
 ],
 "metadata": {
  "kernelspec": {
   "display_name": "Python3.9",
   "language": "python",
   "name": "python3.9"
  },
  "language_info": {
   "codemirror_mode": {
    "name": "ipython",
    "version": 3
   },
   "file_extension": ".py",
   "mimetype": "text/x-python",
   "name": "python",
   "nbconvert_exporter": "python",
   "pygments_lexer": "ipython3",
   "version": "3.6.13"
  }
 },
 "nbformat": 4,
 "nbformat_minor": 4
}
