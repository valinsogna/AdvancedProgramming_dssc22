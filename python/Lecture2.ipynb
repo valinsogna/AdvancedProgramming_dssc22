{
 "cells": [
  {
   "cell_type": "markdown",
   "metadata": {},
   "source": [
    "In this lecture we'll talk about modules (not the ones you write by yourself for now) and discuss some common use examples.\n",
    "\n",
    "General remarks:\n",
    "\n",
    "**never do `from numpy inport *`**\n",
    "\n",
    "**never do `%pylab inline`**\n",
    "\n",
    "This can only be done when you really need to save screen space and typing time (like is done in your other lectures, but never in real life. Remember `using namespace std`? This is even worse.\n",
    "\n",
    "**Exercise0:** go through any 2 lectures of numerical analysis and fix the notebooks to use all the names properly."
   ]
  },
  {
   "cell_type": "markdown",
   "metadata": {},
   "source": [
    "### **Standard Library**\n",
    "\n",
    "[the whole library docs](https://docs.python.org/3/library/)\n",
    "\n",
    "[math module docs](https://docs.python.org/3/library/math.html)\n",
    "\n",
    "[itertools docs](https://docs.python.org/3/library/itertools.html?highlight=itertools#module-itertools)"
   ]
  },
  {
   "cell_type": "code",
   "execution_count": null,
   "metadata": {},
   "outputs": [],
   "source": [
    "import math"
   ]
  },
  {
   "cell_type": "code",
   "execution_count": null,
   "metadata": {},
   "outputs": [],
   "source": [
    "math.sin(math.pi/2)"
   ]
  },
  {
   "cell_type": "code",
   "execution_count": null,
   "metadata": {},
   "outputs": [],
   "source": [
    "math.sqrt(2)"
   ]
  },
  {
   "cell_type": "code",
   "execution_count": null,
   "metadata": {},
   "outputs": [],
   "source": [
    "import itertools as it"
   ]
  },
  {
   "cell_type": "code",
   "execution_count": null,
   "metadata": {},
   "outputs": [],
   "source": [
    "permut = it.permutations([1,2,3])\n",
    "comb = it.combinations([1,2,3,4,5],3) \n",
    "pr = it.product([1,2,3],[2,3,4])"
   ]
  },
  {
   "cell_type": "code",
   "execution_count": null,
   "metadata": {},
   "outputs": [],
   "source": [
    "print(*permut)"
   ]
  },
  {
   "cell_type": "code",
   "execution_count": null,
   "metadata": {},
   "outputs": [],
   "source": [
    "type(permut)"
   ]
  },
  {
   "cell_type": "code",
   "execution_count": null,
   "metadata": {},
   "outputs": [],
   "source": [
    "print(*comb)"
   ]
  },
  {
   "cell_type": "code",
   "execution_count": null,
   "metadata": {},
   "outputs": [],
   "source": [
    "print(*pr)"
   ]
  },
  {
   "cell_type": "markdown",
   "metadata": {},
   "source": [
    "### **Numpy**\n",
    "\n",
    "From the docs:\n",
    "\n",
    "NumPy is the fundamental package for scientific computing in Python. It is a Python library that provides a multidimensional array object, various derived objects (such as masked arrays and matrices), and an assortment of routines for fast operations on arrays, including mathematical, logical, shape manipulation, sorting, selecting, I/O, discrete Fourier transforms, basic linear algebra, basic statistical operations, random simulation and much more.\n",
    "\n",
    "[documentation](https://numpy.org/doc/stable/user/whatisnumpy.html)\n",
    "\n",
    "\n",
    "Numpy is mostly used for manipulations on arrays. It's usually imported as \"np\". "
   ]
  },
  {
   "cell_type": "code",
   "execution_count": null,
   "metadata": {},
   "outputs": [],
   "source": [
    "import numpy as np"
   ]
  },
  {
   "cell_type": "markdown",
   "metadata": {},
   "source": [
    "Let's start with the different ways of arrays creations:"
   ]
  },
  {
   "cell_type": "code",
   "execution_count": null,
   "metadata": {},
   "outputs": [],
   "source": [
    "arr1 = np.array([1,2,3,4,5])                    # From a list (works with list comprehensions too)\n",
    "print(arr1)             \n",
    "print(type(arr1))"
   ]
  },
  {
   "cell_type": "code",
   "execution_count": null,
   "metadata": {},
   "outputs": [],
   "source": [
    "arr2 = np.array([[1,2],[3,4]])\n",
    "print(arr2)"
   ]
  },
  {
   "cell_type": "markdown",
   "metadata": {},
   "source": [
    "You can create an array with zeros, ones, or leave it uninitialized"
   ]
  },
  {
   "cell_type": "code",
   "execution_count": null,
   "metadata": {},
   "outputs": [],
   "source": [
    "arr3 = np.zeros((3,4), dtype='int')            \n",
    "arr4 = np.ones((3,4), dtype='float')\n",
    "arr5=np.empty(10)\n",
    "print(arr3)\n",
    "print(arr4)\n",
    "print(arr5)"
   ]
  },
  {
   "cell_type": "code",
   "execution_count": null,
   "metadata": {},
   "outputs": [],
   "source": [
    "arr6 = np.full((3,5), 7.77)       # fill in the array with 1 number\n",
    "arr7 = np.arange(1,100,17)        # just like \"range\"\n",
    "arr8 = np.linspace(0,1,27)        # 27 values linearly spaced from 0 to 1\n",
    "arr9 = np.eye(3)      #identity\n",
    "print(arr6)\n",
    "print(arr7)\n",
    "print(arr8)\n",
    "print(arr9)"
   ]
  },
  {
   "cell_type": "code",
   "execution_count": null,
   "metadata": {},
   "outputs": [],
   "source": [
    "arr10=np.ones_like(arr6)\n",
    "print(arr10)"
   ]
  },
  {
   "cell_type": "markdown",
   "metadata": {},
   "source": [
    "You can also create random arrays:"
   ]
  },
  {
   "cell_type": "code",
   "execution_count": null,
   "metadata": {},
   "outputs": [],
   "source": [
    "arr11 = np.random.random((3,5))    # 3x5 Random numbers matrix with entries between 0-1\n",
    "arr12 = np.random.normal(0,5,(3,4))  # 3x4 Random numbers normal distributed with mean 0 and standard dev 5\n",
    "print(arr11)\n",
    "print(arr12)"
   ]
  },
  {
   "cell_type": "markdown",
   "metadata": {},
   "source": [
    "#### **Element-wise calculations:**"
   ]
  },
  {
   "cell_type": "code",
   "execution_count": null,
   "metadata": {},
   "outputs": [],
   "source": [
    "#standard math operations:\n",
    "A = np.linspace(1,10,10)\n",
    "B = np.linspace(1,10,10) #it will complain if sizes do not match\n",
    "print(A+B)\n",
    "print(A-B)\n",
    "print(A*B)\n",
    "print(A/B)\n",
    "print(A//B)\n",
    "print(A**B)\n",
    "print(A%B)\n"
   ]
  },
  {
   "cell_type": "code",
   "execution_count": null,
   "metadata": {},
   "outputs": [],
   "source": [
    "arr=np.linspace(0.1,1,10)\n",
    "print(abs(arr))\n",
    "print(np.cos(arr))\n",
    "print(np.arccos(arr))\n",
    "print(np.exp(arr))\n",
    "print(np.log(abs(arr)))\n",
    "print(np.reciprocal(arr))"
   ]
  },
  {
   "cell_type": "markdown",
   "metadata": {},
   "source": [
    "#### **Joining, splitting, shaping**"
   ]
  },
  {
   "cell_type": "code",
   "execution_count": null,
   "metadata": {},
   "outputs": [],
   "source": [
    "#for joining arrays you can use concatinate\n",
    "arr1 = np.array([1,2,3,4])\n",
    "arr2 = np.array([5,6,7,8])\n",
    "print(np.concatenate([arr1,arr2]))\n"
   ]
  },
  {
   "cell_type": "code",
   "execution_count": null,
   "metadata": {},
   "outputs": [],
   "source": [
    "#you can reshape the arrays, it will complain if dimensions do not allow for that\n",
    "A = arr1.reshape(2,2)\n",
    "B = arr2.reshape(2,2)\n",
    "print(np.concatenate([A,B]))\n",
    "print(np.concatenate([A,B],axis=1))"
   ]
  },
  {
   "cell_type": "code",
   "execution_count": null,
   "metadata": {},
   "outputs": [],
   "source": [
    "#you can \"stack\" arrays horizontally or vertically\n",
    "vect1 = np.array([1,2,3])\n",
    "vect2 = np.array([[4,5,6],[7,8,9]])\n",
    "print(vect1,np.shape(vect1))\n",
    "print(vect2,np.shape(vect2))\n",
    "print(np.vstack([vect1,vect2]))\n",
    "print(np.hstack([vect1.reshape(3,1),vect2.T]))"
   ]
  },
  {
   "cell_type": "code",
   "execution_count": null,
   "metadata": {},
   "outputs": [],
   "source": [
    "#splitting the arrays\n",
    "A = np.arange(20).reshape(4,5)\n",
    "print(A)\n",
    "B,C = np.split(A,2)\n",
    "print(\"B=\",B)\n",
    "print(\"C=\",C)\n",
    "B,C = np.split(A,[3],axis=1) #split vertically\n",
    "print(B)\n",
    "print(C)"
   ]
  },
  {
   "cell_type": "markdown",
   "metadata": {},
   "source": [
    "#### **Element access**"
   ]
  },
  {
   "cell_type": "code",
   "execution_count": null,
   "metadata": {},
   "outputs": [],
   "source": [
    "A = np.array([range(i,i+5) for i in [1,6,11,16,21]])\n",
    "print(A,'\\n')\n",
    "print(A[1,1],A[1,3],A[-1,-1],A[-1,2])  # Accessing individual elements, negative counts from the end\n",
    "A[2,2] = 777    # Changing elements\n",
    "print(A,'\\n')             \n",
    "A[2,2] = 1.234   # Attention! numpy won't change array type, it will change your input\n",
    "print(A,'\\n')"
   ]
  },
  {
   "cell_type": "markdown",
   "metadata": {},
   "source": [
    "You can have the same syntax as with range before (this takes time to get used to...):"
   ]
  },
  {
   "cell_type": "code",
   "execution_count": null,
   "metadata": {},
   "outputs": [],
   "source": [
    "print(A[1:4,1:4],'\\n')  # central sub array\n",
    "print(A[:3,2:],'\\n')    # top right sub array\n",
    "print(A[:,0:5:2],'\\n')  # only even columns\n",
    "print(A[::-1,:],'\\n')   # reverse the rows "
   ]
  },
  {
   "cell_type": "markdown",
   "metadata": {},
   "source": [
    "**Surprise!** If you assign this to something, this acts like a \"reference\" instead of copy"
   ]
  },
  {
   "cell_type": "code",
   "execution_count": null,
   "metadata": {},
   "outputs": [],
   "source": [
    "B=A[1:4,1:4]\n",
    "B[2][2]=999\n",
    "print(B)\n",
    "print(A)"
   ]
  },
  {
   "cell_type": "markdown",
   "metadata": {},
   "source": [
    "you need to call the `copy()` to actually copy:"
   ]
  },
  {
   "cell_type": "code",
   "execution_count": null,
   "metadata": {},
   "outputs": [],
   "source": [
    "B=A[1:4,1:4].copy()\n",
    "B[2][2]=888\n",
    "print(B)\n",
    "print(A)"
   ]
  },
  {
   "cell_type": "markdown",
   "metadata": {},
   "source": [
    "#### **Linear Algebra** "
   ]
  },
  {
   "cell_type": "code",
   "execution_count": null,
   "metadata": {},
   "outputs": [],
   "source": [
    "A = np.array([[1,77,3],[4,5,6],[7,8,9]])\n",
    "B = np.linspace(5,30,6).reshape(3,2)\n",
    "print('A:',A)\n",
    "print('B:',B)\n",
    "print('dot product\\n',np.dot(A,B))\n",
    "print('Matrix product\\n',np.matmul(A,B)) #different from dot for dimensions>2\n",
    "print('Inner product\\n',np.inner(A,A))\n",
    "print('Outer product\\n',np.outer(A,B))\n",
    "print('Trace\\n',np.trace(A))\n",
    "print('Transpose\\n',A.T)\n",
    "print('Matrix Power\\n',np.linalg.matrix_power(A,2))\n",
    "print('Inverse\\n',np.linalg.inv(A))\n",
    "print('Singular Value Decomposition\\n',np.linalg.svd(A))\n",
    "print('Determinant\\n',np.linalg.det(A))\n",
    "print('Eigen decomposition\\n',np.linalg.eig(A))"
   ]
  },
  {
   "cell_type": "code",
   "execution_count": null,
   "metadata": {},
   "outputs": [],
   "source": [
    "help(np.inner)"
   ]
  },
  {
   "cell_type": "markdown",
   "metadata": {},
   "source": [
    "### **Statistics:**"
   ]
  },
  {
   "cell_type": "code",
   "execution_count": null,
   "metadata": {},
   "outputs": [],
   "source": [
    "A = np.linspace(0,1,9)\n",
    "print('A:',A)\n",
    "print('sum:               ',np.sum(A))\n",
    "print('product:           ',np.prod(A))\n",
    "print('mean:              ',np.mean(A))\n",
    "print('standard deviation:',np.std(A))\n",
    "print('variance:          ',np.var(A))\n",
    "print('minimum:           ',np.min(A))\n",
    "print('maximum:           ',np.max(A))\n",
    "print('median:            ',np.median(A))\n",
    "print('index of min:      ',np.argmin(A))\n",
    "print('index of max:      ',np.argmax(A))"
   ]
  },
  {
   "cell_type": "markdown",
   "metadata": {},
   "source": [
    "**\"Surprise\" on argmin/argmax:**"
   ]
  },
  {
   "cell_type": "code",
   "execution_count": null,
   "metadata": {},
   "outputs": [],
   "source": [
    "A=np.linspace(0,10,9).reshape(3,3)\n",
    "print(np.argmax(A))"
   ]
  },
  {
   "cell_type": "code",
   "execution_count": null,
   "metadata": {},
   "outputs": [],
   "source": [
    "print(np.unravel_index(np.argmax(A), A.shape))"
   ]
  },
  {
   "cell_type": "markdown",
   "metadata": {},
   "source": [
    "#### **More traps:**"
   ]
  },
  {
   "cell_type": "markdown",
   "metadata": {},
   "source": [
    "Sometimes you have to think like a c/c++ programmer:\n",
    "\n",
    "**overflow is possible with numpy arrays**"
   ]
  },
  {
   "cell_type": "code",
   "execution_count": null,
   "metadata": {},
   "outputs": [],
   "source": [
    "arr13 = 12345678987654321*np.ones((1), dtype='int8')\n",
    "arr14 = np.array([12345678987654321], dtype='int8')\n",
    "print(arr13)\n",
    "print(arr14)"
   ]
  },
  {
   "cell_type": "markdown",
   "metadata": {},
   "source": [
    "If you deal with too much data/big arrays, it's a good idea to \"delete\" them after usage, so that they wouldn't take up memory space. Python garbage collector will take care of them then (though not instantly). You can just do:"
   ]
  },
  {
   "cell_type": "code",
   "execution_count": null,
   "metadata": {},
   "outputs": [],
   "source": [
    "arr1=None\n",
    "print(arr1)"
   ]
  },
  {
   "cell_type": "markdown",
   "metadata": {},
   "source": [
    "Help becomes too complicated with too many functions. You can use:"
   ]
  },
  {
   "cell_type": "code",
   "execution_count": null,
   "metadata": {},
   "outputs": [],
   "source": [
    "np.lookfor(\"exponent\")"
   ]
  },
  {
   "cell_type": "markdown",
   "metadata": {},
   "source": [
    "Why use numpy arrays over normal?"
   ]
  },
  {
   "cell_type": "code",
   "execution_count": null,
   "metadata": {},
   "outputs": [],
   "source": [
    "A=np.array(range(0,900)).reshape(30,30)\n",
    "B=np.array(range(34,934)).reshape(30,30)"
   ]
  },
  {
   "cell_type": "code",
   "execution_count": null,
   "metadata": {},
   "outputs": [],
   "source": [
    "%%timeit\n",
    "np.matmul(A,B)"
   ]
  },
  {
   "cell_type": "code",
   "execution_count": null,
   "metadata": {},
   "outputs": [],
   "source": [
    "A=[[x for x in range(30)] for i in range(30)]\n",
    "B=[[x+34 for x in range(30)] for i in range(30)]"
   ]
  },
  {
   "cell_type": "code",
   "execution_count": null,
   "metadata": {},
   "outputs": [],
   "source": [
    "%%timeit\n",
    "np.matmul(A,B)"
   ]
  },
  {
   "cell_type": "markdown",
   "metadata": {},
   "source": [
    "#### **Is numpy fast?**\n",
    "\n",
    "Yes, when you know what you are doing.\n",
    "\n",
    "Unfortunately, it's very easy to write bad code in python, much easier than in c/c++...\n",
    "\n",
    "Let's look at the exercise1 from the last lecture (see solutions1.ipynb)"
   ]
  },
  {
   "cell_type": "markdown",
   "metadata": {},
   "source": [
    "### **Matplotlib**\n",
    "\n",
    "this section was taken from [here](https://github.com/JamesFergusson/Research-Computing/)"
   ]
  },
  {
   "cell_type": "code",
   "execution_count": null,
   "metadata": {},
   "outputs": [],
   "source": [
    "from matplotlib import pyplot as plt"
   ]
  },
  {
   "cell_type": "markdown",
   "metadata": {},
   "source": [
    "Let's do the first simple plot:"
   ]
  },
  {
   "cell_type": "code",
   "execution_count": null,
   "metadata": {},
   "outputs": [],
   "source": [
    "x = np.linspace(0,10,100)\n",
    "y = np.sin(x)\n",
    "plt.plot(x,y)"
   ]
  },
  {
   "cell_type": "markdown",
   "metadata": {},
   "source": [
    "We can do muplitple at once:"
   ]
  },
  {
   "cell_type": "code",
   "execution_count": null,
   "metadata": {},
   "outputs": [],
   "source": [
    "y1 = np.sin(x)\n",
    "y2 = np.cos(x)\n",
    "plt.plot(x,y1)\n",
    "plt.plot(x,y2) "
   ]
  },
  {
   "cell_type": "markdown",
   "metadata": {},
   "source": [
    "We can play with the line colors and styles:"
   ]
  },
  {
   "cell_type": "code",
   "execution_count": null,
   "metadata": {},
   "outputs": [],
   "source": [
    "x = np.linspace(0,5,20)\n",
    "y1 = np.sin(x)\n",
    "y2 = np.sin(x) + 0.2\n",
    "y3 = np.sin(x) + 0.4\n",
    "y4 = np.sin(x) + 0.6\n",
    "y5 = np.sin(x) + 0.8\n",
    "y6 = np.sin(x) + 1\n",
    "plt.plot(x,y1,linestyle='-',linewidth=1,color='r',marker=('o'))\n",
    "plt.plot(x,y2,linestyle='--',linewidth=2,color='#64D081',marker=('^'))\n",
    "plt.plot(x,y3,linestyle='-.',linewidth=3,color=(139/255, 0, 139/255),marker=('s'))\n",
    "plt.plot(x,y4,linestyle=':',linewidth=4,color='lime',marker=('*'))\n",
    "plt.plot(x,y5,linestyle=' ',marker=('$HI$'),color='steelblue')"
   ]
  },
  {
   "cell_type": "code",
   "execution_count": null,
   "metadata": {},
   "outputs": [],
   "source": [
    "x = np.linspace(0,5,20)\n",
    "y1 = np.sin(x)\n",
    "y2 = np.sin(x) + 0.2\n",
    "y3 = np.sin(x) + 0.4\n",
    "y4 = np.sin(x) + 0.6\n",
    "y5 = np.sin(x) + 0.8\n",
    "y6 = np.sin(x) + 1\n",
    "\n",
    "#aspect ratio\n",
    "w, h = plt.figaspect(0.36)\n",
    "plt.figure('Sin plots',figsize=(w,h))\n",
    "\n",
    "plt.plot(x,y1,linestyle='-',linewidth=1,color='r',marker=('o'))\n",
    "plt.plot(x,y2,linestyle='--',linewidth=2,color='#00FA9A',marker=('^'))\n",
    "plt.plot(x,y3,linestyle='-.',linewidth=3,color=(139/255, 0, 139/255),marker=('s'))\n",
    "plt.plot(x,y4,linestyle=':',linewidth=4,color='lightcoral',marker=('*'))\n",
    "plt.plot(x,y5,linestyle=' ',marker=('$H$'),color='steelblue')\n",
    "\n",
    "# Tick location and limits\n",
    "plt.xticks((0,1,2,3,4,5))\n",
    "plt.xlim(0,5)\n",
    "plt.yticks((-1,0,1,2))\n",
    "plt.ylim(-1,2)\n",
    "\n",
    "# Make ticks point inwards and also appear top and right\n",
    "plt.tick_params(direction='in',top=True,right=True)\n",
    "\n",
    "#Add some labels\n",
    "plt.title('Plot of some stuff',fontsize = 'xx-large',fontstyle='italic',fontweight = 'light')\n",
    "plt.ylabel('This is the $y$ axis',fontsize = 'xx-large',fontstyle='oblique',fontweight = 'heavy')\n",
    "plt.xlabel('This is the $x$ axis',fontsize = 'xx-large',fontstyle='normal',fontweight = 'medium')\n",
    "\n",
    "# add a legend, annoyingly here you can't use most font commands but have to set it manually and import as 'prop'\n",
    "# you can also label the lines in the plot diective with: label='name here'\n",
    "import matplotlib.font_manager as font_manager\n",
    "font = font_manager.FontProperties(weight='bold',style='normal', size=16)\n",
    "plt.legend(('A','B','C','D','E'),prop=font,loc='upper right', shadow=True)\n",
    "\n",
    "# removed extra white space\n",
    "plt.tight_layout()"
   ]
  },
  {
   "cell_type": "markdown",
   "metadata": {},
   "source": [
    "There is a different interface to do exactly the same. You can choose whatever way you prefer, but the below one is better for multiple plots:"
   ]
  },
  {
   "cell_type": "code",
   "execution_count": null,
   "metadata": {},
   "outputs": [],
   "source": [
    "x = np.linspace(0,5,20)\n",
    "y1 = np.sin(x)\n",
    "y2 = np.sin(x) + 0.2\n",
    "y3 = np.sin(x) + 0.4\n",
    "y4 = np.sin(x) + 0.6\n",
    "y5 = np.sin(x) + 0.8\n",
    "y6 = np.sin(x) + 1\n",
    "\n",
    "#aspect ratio\n",
    "w, h = plt.figaspect(0.36)\n",
    "fig = plt.figure('Sin plots',figsize=(w,h))\n",
    "ax = plt.axes()\n",
    "\n",
    "ax.plot(x,y1,linestyle='-',linewidth=1,color='r',marker=('o'))\n",
    "ax.plot(x,y2,linestyle='--',linewidth=2,color='#00FA9A',marker=('^'))\n",
    "ax.plot(x,y3,linestyle='-.',linewidth=3,color=(139/255, 0, 139/255),marker=('s'))\n",
    "ax.plot(x,y4,linestyle=':',linewidth=4,color='lightcoral',marker=('*'))\n",
    "ax.plot(x,y5,linestyle=' ',marker=('$H$'),color='steelblue')\n",
    "\n",
    "# Tick location and limits\n",
    "ax.set(xticks=(0,1,2,3,4,5),xlim=(0,5),yticks=(-1,0,1,2),ylim=(-1,2))\n",
    "\n",
    "# Make ticks point inwards and also appear top and right\n",
    "ax.tick_params(direction='in',top=True,right=True)\n",
    "\n",
    "# Add some labels\n",
    "ax.set_title('Plot of some stuff',fontsize = 'xx-large',fontstyle='italic',fontweight = 'light')\n",
    "ax.set_ylabel('This is the $y$ axis',fontsize = 'xx-large',fontstyle='oblique',fontweight = 'heavy')\n",
    "ax.set_xlabel('This is the $x$ axis',fontsize = 'xx-large',fontstyle='normal',fontweight = 'medium')\n",
    "\n",
    "# add a legend, annoyingly here you can't use most font commands but have to set it manually and import as 'prop'\n",
    "import matplotlib.font_manager as font_manager\n",
    "font = font_manager.FontProperties(weight='bold',style='normal', size=16)\n",
    "ax.legend(('A','B','C','D','E'),prop=font,loc='upper right', shadow=True)\n",
    "\n",
    "# removed extra white space\n",
    "plt.tight_layout()"
   ]
  },
  {
   "cell_type": "code",
   "execution_count": null,
   "metadata": {},
   "outputs": [],
   "source": [
    "x = np.linspace(0,5,20)\n",
    "y1 = np.sin(x)\n",
    "y2 = np.sin(x + 0.2)\n",
    "y3 = np.sin(x + 0.4)\n",
    "y4 = np.sin(x + 0.6)\n",
    "y5 = np.sin(x + 0.8)\n",
    "y6 = np.sin(x + 1)\n",
    "\n",
    "# now we decide the actual figure size in inches\n",
    "fig = plt.figure(figsize=(12,6))\n",
    "\n",
    "# create subplots 231 means make a 2x3 grid and this is the first plot\n",
    "plt.subplot(231)\n",
    "plt.plot(x,y1,color='r')\n",
    "plt.subplot(232)\n",
    "plt.plot(x,y2,color='g')\n",
    "plt.subplot(233)\n",
    "plt.plot(x,y3,color='b')\n",
    "plt.subplot(234)\n",
    "plt.plot(x,y4,color='y')\n",
    "plt.subplot(235)\n",
    "plt.plot(x,y5,color='c')\n",
    "plt.subplot(236)\n",
    "plt.plot(x,y6,color='m')\n",
    "# removed extra white space\n",
    "plt.tight_layout()\n"
   ]
  },
  {
   "cell_type": "code",
   "execution_count": null,
   "metadata": {},
   "outputs": [],
   "source": [
    "# now we decide the actual figure and share x and y axes\n",
    "fig, ax = plt.subplots(2,3,figsize=(12,6), sharex=True,sharey=True)\n",
    "\n",
    "# Now each plot has a location defined by the numpy array ax\n",
    "ax[0,0].plot(x,y1,color='r')\n",
    "ax[0,1].plot(x,y2,color='g')\n",
    "ax[0,2].plot(x,y3,color='b')\n",
    "ax[1,0].plot(x,y4,color='y')\n",
    "ax[1,1].plot(x,y5,color='c')\n",
    "ax[1,2].plot(x,y6,color='m')\n",
    "# removed extra white space\n",
    "fig.tight_layout()"
   ]
  },
  {
   "cell_type": "markdown",
   "metadata": {},
   "source": [
    "We can make multiple plots of different sizes by creating 2 sets of subplots which are multiples of each other using the same method "
   ]
  },
  {
   "cell_type": "code",
   "execution_count": null,
   "metadata": {},
   "outputs": [],
   "source": [
    "x = np.linspace(0,5,20)\n",
    "y1 = np.sin(x)\n",
    "y2 = np.sin(x + 0.2)\n",
    "y3 = np.sin(x + 0.4)\n",
    "y4 = np.sin(x + 0.6)\n",
    "y5 = np.sin(x + 0.8)\n",
    "y6 = np.sin(x + 1.0)\n",
    "y7 = np.sin(x + 1.2)\n",
    "\n",
    "# now we decide the actual figure size in inches\n",
    "fig = plt.figure(figsize=(12,6))\n",
    "\n",
    "# create subplots now we have created a 2x2 grid and a 4x4 grid and fitted them together\n",
    "plt.subplot(221)\n",
    "plt.plot(x,y1,color='r')\n",
    "plt.subplot(223)\n",
    "plt.plot(x,y2,color='g')\n",
    "plt.subplot(224)\n",
    "plt.plot(x,y7,color='k')\n",
    "\n",
    "plt.subplot(443)\n",
    "plt.plot(x,y3,color='b')\n",
    "plt.subplot(444)\n",
    "plt.plot(x,y4,color='y')\n",
    "plt.subplot(447)\n",
    "plt.plot(x,y5,color='c')\n",
    "plt.subplot(448)\n",
    "plt.plot(x,y6,color='m')"
   ]
  },
  {
   "cell_type": "markdown",
   "metadata": {},
   "source": [
    "different way to do the same:"
   ]
  },
  {
   "cell_type": "code",
   "execution_count": null,
   "metadata": {},
   "outputs": [],
   "source": [
    "x = np.linspace(0,5,20)\n",
    "y1 = np.sin(x)\n",
    "y2 = np.sin(x + 0.2)\n",
    "y3 = np.sin(x + 0.4)\n",
    "y4 = np.sin(x + 0.6)\n",
    "y5 = np.sin(x + 0.8)\n",
    "y6 = np.sin(x + 1.0)\n",
    "y7 = np.sin(x + 1.2)\n",
    "\n",
    "# create figure\n",
    "fig = plt.figure(figsize=(12,6))\n",
    "# import gridspec and create a 4x4 grid\n",
    "# we can also specifc the ratios of the sections of the grid relative to each other\n",
    "import matplotlib.gridspec as gs\n",
    "grid = gs.GridSpec(4, 4,width_ratios=[1,1,1,2],height_ratios=[1,1,1,1])\n",
    "\n",
    "# Create axis objects for each plot\n",
    "ax1 = plt.subplot(grid[0:2,0:2])\n",
    "ax2 = plt.subplot(grid[2:4,0:2])\n",
    "ax3 = plt.subplot(grid[2:4,2:4])\n",
    "ax4 = plt.subplot(grid[0,2])\n",
    "ax5 = plt.subplot(grid[0,3])\n",
    "ax6 = plt.subplot(grid[1,2])\n",
    "ax7 = plt.subplot(grid[1,3])\n",
    "\n",
    "# create subplots\n",
    "ax1.plot(x,y1,color='r')\n",
    "ax2.plot(x,y2,color='g')\n",
    "ax3.plot(x,y7,color='k')\n",
    "\n",
    "ax4.plot(x,y3,color='b')\n",
    "ax5.plot(x,y4,color='y')\n",
    "ax6.plot(x,y5,color='c')\n",
    "ax7.plot(x,y6,color='m')"
   ]
  },
  {
   "cell_type": "markdown",
   "metadata": {},
   "source": [
    "If we go back to the previous example of 6 plots in a regular grid we can do it with gridspec which gives us more control:"
   ]
  },
  {
   "cell_type": "code",
   "execution_count": null,
   "metadata": {},
   "outputs": [],
   "source": [
    "# create figure\n",
    "fig = plt.figure(figsize=(12,6))\n",
    "# import gridspec and create a 4x4 grid\n",
    "# This time lets join them up into one\n",
    "import matplotlib.gridspec as gs\n",
    "grid = gs.GridSpec(2,3,wspace=0,hspace=0)\n",
    "\n",
    "# Create axis objects for each plot\n",
    "ax1 = plt.subplot(grid[0,0])\n",
    "ax2 = plt.subplot(grid[0,1])\n",
    "ax3 = plt.subplot(grid[0,2])\n",
    "ax4 = plt.subplot(grid[1,0])\n",
    "ax5 = plt.subplot(grid[1,1])\n",
    "ax6 = plt.subplot(grid[1,2])\n",
    "\n",
    "# create subplots for all 6\n",
    "ax1.plot(x,y1,color='r')\n",
    "ax2.plot(x,y2,color='g')\n",
    "ax3.plot(x,y7,color='b')\n",
    "ax4.plot(x,y3,color='y')\n",
    "ax5.plot(x,y4,color='c')\n",
    "ax6.plot(x,y5,color='m')\n",
    "\n",
    "# Turn the ticks inward\n",
    "ax1.tick_params(direction='in',top=True,right=True)\n",
    "ax2.tick_params(direction='in',top=True,right=True)\n",
    "ax3.tick_params(direction='in',top=True,right=True)\n",
    "ax4.tick_params(direction='in',top=True,right=True)\n",
    "ax5.tick_params(direction='in',top=True,right=True)\n",
    "ax6.tick_params(direction='in',top=True,right=True)\n",
    "\n",
    "# set the limits to be the same so they line up perfectly\n",
    "ax1.set(xlim=(0,5),ylim=(-1.05,1.05))\n",
    "ax2.set(xlim=(0,5),ylim=(-1.05,1.05))\n",
    "ax3.set(xlim=(0,5),ylim=(-1.05,1.05))\n",
    "ax4.set(xlim=(0,5),ylim=(-1.05,1.05))\n",
    "ax5.set(xlim=(0,5),ylim=(-1.05,1.05))\n",
    "ax6.set(xlim=(0,5),ylim=(-1.05,1.05))\n",
    "\n",
    "# Add grids\n",
    "ax1.grid(True)\n",
    "ax2.grid(True)\n",
    "ax3.grid(True)\n",
    "ax4.grid(True)\n",
    "ax5.grid(True)\n",
    "ax6.grid(True)\n",
    "\n",
    "# remove tick labels for interior axes\n",
    "ax1.xaxis.set(ticklabels=[])\n",
    "ax2.xaxis.set(ticklabels=[])\n",
    "ax3.xaxis.set(ticklabels=[])\n",
    "\n",
    "ax2.yaxis.set(ticklabels=[])\n",
    "ax3.yaxis.set(ticklabels=[])\n",
    "ax5.yaxis.set(ticklabels=[])\n",
    "ax6.yaxis.set(ticklabels=[])\n"
   ]
  },
  {
   "cell_type": "markdown",
   "metadata": {},
   "source": [
    "More plot examples (so that you could have nice styles when you need them):"
   ]
  },
  {
   "cell_type": "code",
   "execution_count": null,
   "metadata": {},
   "outputs": [],
   "source": [
    "x = np.linspace(0,5,30)\n",
    "y1 = np.sin(x)\n",
    "y2 = np.cos(x)\n",
    "e1 = 0.1*np.random.randn(len(x))\n",
    "e2 = 0.2*np.random.randn(len(x))\n",
    "h1 = 100 + 20*np.random.randn(10000)\n",
    "y5 = np.sin(x + 0.8)\n",
    "y6 = np.sin(x + 1.0)\n",
    "y7 = np.sin(x + 1.2)\n",
    "\n",
    "# create figure\n",
    "fig = plt.figure(figsize=(15,6))\n",
    "# import gridspec and create a 4x4 grid\n",
    "# This time lets join them up into one\n",
    "import matplotlib.gridspec as gs\n",
    "grid = gs.GridSpec(2,4)\n",
    "\n",
    "# Create axis objects for each plot\n",
    "ax1 = plt.subplot(grid[0,0])\n",
    "ax2 = plt.subplot(grid[0,1])\n",
    "ax3 = plt.subplot(grid[0,2])\n",
    "ax4 = plt.subplot(grid[0,3])\n",
    "ax5 = plt.subplot(grid[1,0])\n",
    "ax6 = plt.subplot(grid[1,1])\n",
    "ax7 = plt.subplot(grid[1,2], projection='polar')\n",
    "ax8 = plt.subplot(grid[1,3])\n",
    "\n",
    "ax1.fill_between(x,y1,y2)\n",
    "ax2.errorbar(x,y1,fmt='.k',xerr=e1,yerr=e2,linestyle=' ')\n",
    "ax3.loglog(x,y1)\n",
    "ax4.hist(h1,50)\n",
    "ax5.scatter(e1,e2,c=e1)\n",
    "ax6.pie(np.abs(y1))\n",
    "ax7.plot(x,y1)\n",
    "ax8.plot(x,y1)\n",
    "\n",
    "ax8.text(1.3,0.6,'some text')"
   ]
  },
  {
   "cell_type": "markdown",
   "metadata": {},
   "source": [
    "**Different plot styles:**"
   ]
  },
  {
   "cell_type": "code",
   "execution_count": null,
   "metadata": {},
   "outputs": [],
   "source": [
    "with plt.style.context(('dark_background')):\n",
    "    plt.plot(x,y5,color='m')"
   ]
  },
  {
   "cell_type": "code",
   "execution_count": null,
   "metadata": {},
   "outputs": [],
   "source": [
    "with plt.style.context(('classic')):\n",
    "    plt.plot(x,y1,color='r')"
   ]
  },
  {
   "cell_type": "code",
   "execution_count": null,
   "metadata": {},
   "outputs": [],
   "source": [
    "with plt.style.context(('ggplot')):\n",
    "    plt.plot(x,y2,color='g')"
   ]
  },
  {
   "cell_type": "code",
   "execution_count": null,
   "metadata": {},
   "outputs": [],
   "source": [
    "with plt.style.context(('grayscale')):\n",
    "    plt.plot(x,y2,color='c')"
   ]
  },
  {
   "cell_type": "code",
   "execution_count": null,
   "metadata": {},
   "outputs": [],
   "source": [
    "with plt.style.context(('seaborn')):\n",
    "    plt.plot(x,y7,color='b')"
   ]
  },
  {
   "cell_type": "code",
   "execution_count": null,
   "metadata": {},
   "outputs": [],
   "source": [
    "with plt.style.context(('seaborn-white')):\n",
    "    plt.plot(x,y2,color='y')"
   ]
  },
  {
   "cell_type": "markdown",
   "metadata": {},
   "source": [
    "### **For very nice looking statistical data, use this [package](https://seaborn.pydata.org/)**"
   ]
  },
  {
   "cell_type": "markdown",
   "metadata": {},
   "source": [
    "### **3D plots**"
   ]
  },
  {
   "cell_type": "code",
   "execution_count": null,
   "metadata": {},
   "outputs": [],
   "source": [
    "from mpl_toolkits import mplot3d\n",
    "\n",
    "x = np.linspace(0,20,100)\n",
    "y = x*np.sin(x)\n",
    "z = x*np.cos(x)\n",
    "\n",
    "fig = plt.figure(figsize=(10,10))\n",
    "ax = plt.axes(projection='3d')\n",
    "\n",
    "ax.plot3D(x,y,z)"
   ]
  },
  {
   "cell_type": "code",
   "execution_count": null,
   "metadata": {},
   "outputs": [],
   "source": [
    "x = np.linspace(0,20,100)\n",
    "y = x*np.sin(x)\n",
    "z = x*np.cos(x)\n",
    "\n",
    "fig = plt.figure(figsize=(10,10))\n",
    "ax = plt.axes(projection='3d')\n",
    "\n",
    "ax.scatter3D(x,y,z,c=z)"
   ]
  },
  {
   "cell_type": "code",
   "execution_count": null,
   "metadata": {},
   "outputs": [],
   "source": [
    "x = np.linspace(0,10,100)\n",
    "y = x\n",
    "X,Y=np.meshgrid(x,y)\n",
    "\n",
    "Z = (X-5)**2 + (Y-5)\n",
    "\n",
    "fig = plt.figure(figsize=(15,10))\n",
    "ax = plt.axes(projection='3d')\n",
    "\n",
    "ax.contour3D(X,Y,Z,50)"
   ]
  },
  {
   "cell_type": "code",
   "execution_count": null,
   "metadata": {},
   "outputs": [],
   "source": [
    "u, v = np.mgrid[0:2*np.pi:100j, 0:np.pi:50j]\n",
    "x = np.cos(u)*np.sin(v)\n",
    "y = np.sin(u)*np.sin(v)\n",
    "z = np.cos(v)\n",
    "\n",
    "fig = plt.figure(figsize=(15,15))\n",
    "ax = plt.axes(projection='3d')\n",
    "\n",
    "ax.plot_wireframe(x, y, z)"
   ]
  },
  {
   "cell_type": "code",
   "execution_count": null,
   "metadata": {},
   "outputs": [],
   "source": [
    "x = np.linspace(0,10,100)\n",
    "y = x\n",
    "X,Y=np.meshgrid(x,y)\n",
    "\n",
    "Z = (X-5)**2 + (Y-5)\n",
    "\n",
    "fig = plt.figure(figsize=(15,10))\n",
    "ax = plt.axes(projection='3d')\n",
    "\n",
    "ax.plot_surface(X,Y,Z,rstride=1,cstride=1,cmap='cubehelix')"
   ]
  },
  {
   "cell_type": "code",
   "execution_count": null,
   "metadata": {},
   "outputs": [],
   "source": [
    "x = np.linspace(0,20,100)\n",
    "y = np.linspace(0,2*np.pi,100)\n",
    "\n",
    "r,t=np.meshgrid(x,y)\n",
    "\n",
    "X = r * np.sin(t)\n",
    "Y = r * np.cos(t)\n",
    "\n",
    "Z = (X-5)**2 + (Y-5)\n",
    "\n",
    "fig = plt.figure(figsize=(15,10))\n",
    "ax = plt.axes(projection='3d')\n",
    "\n",
    "ax.plot_surface(X,Y,Z)"
   ]
  },
  {
   "cell_type": "code",
   "execution_count": null,
   "metadata": {},
   "outputs": [],
   "source": [
    "x = 2*np.random.random(1000)-1e0\n",
    "y = 2*np.random.random(1000)-1e0\n",
    "\n",
    "z = x**2 + y**3\n",
    "\n",
    "fig = plt.figure(figsize=(15,10))\n",
    "ax = plt.axes(projection='3d')\n",
    "\n",
    "ax.plot_trisurf(x,y,z)"
   ]
  },
  {
   "cell_type": "code",
   "execution_count": null,
   "metadata": {},
   "outputs": [],
   "source": []
  }
 ],
 "metadata": {
  "kernelspec": {
   "display_name": "Python3.9",
   "language": "python",
   "name": "python3.9"
  },
  "language_info": {
   "codemirror_mode": {
    "name": "ipython",
    "version": 3
   },
   "file_extension": ".py",
   "mimetype": "text/x-python",
   "name": "python",
   "nbconvert_exporter": "python",
   "pygments_lexer": "ipython3",
   "version": "3.6.13"
  }
 },
 "nbformat": 4,
 "nbformat_minor": 4
}
