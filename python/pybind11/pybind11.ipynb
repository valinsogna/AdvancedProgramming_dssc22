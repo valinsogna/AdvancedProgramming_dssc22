{
 "cells": [
  {
   "cell_type": "markdown",
   "id": "a804ef3d-2e39-4f88-ac1f-455b9030aa08",
   "metadata": {},
   "source": [
    "# from C++ to python\n",
    "\n",
    "see https://pybind11.readthedocs.io/en/stable/basics.html\n",
    "\n",
    "First, get your python environment ready.\n",
    "We'll use:\n",
    "```\n",
    "jupyter-lab pybind11 numpy matplotlib \n",
    "```\n",
    "\n",
    "Pybind11 is a header-only library, so we don't have to compile anything to install it. Just provide the include path to the compiler.\n",
    "You can test that everything is working with the following command, that retrieves the compilation flag that we will use later. The output depends on your particular software configuration. The first command will show the include path to use pybind11. The second one will tell us the suffix that we have to use for our compiled C++ library. Check that the python version is correctly detected, and the outputs refer to the same python version. If not, your environment is broken. Closing the current terminal and opening a new one may help."
   ]
  },
  {
   "cell_type": "code",
   "execution_count": 1,
   "id": "bd6a40ab-8b0c-4004-968d-4280fea9574e",
   "metadata": {},
   "outputs": [
    {
     "name": "stdout",
     "output_type": "stream",
     "text": [
      "-I/u/r/rbertoss/miniconda3/include/python3.10 -I/u/r/rbertoss/Documents/lection_pybind11/venv/lib/python3.10/site-packages/pybind11/include\n",
      ".cpython-310-x86_64-linux-gnu.so\n"
     ]
    }
   ],
   "source": [
    "!python -m pybind11 --includes\n",
    "!python3-config --extension-suffix"
   ]
  },
  {
   "cell_type": "markdown",
   "id": "7fffd506-0cd0-4d23-8a21-0612236ac69a",
   "metadata": {
    "tags": []
   },
   "source": [
    "# Original C++ code\n",
    "\n",
    "This comes from the exercise about the toy matrix class (lecture 4). We will implement the python interface of that class in python. Note that I modified the `main` function that is present in the repository, renaming it and removing its arguments. Try to use your own implementation.\n",
    "\n",
    "```c++\n",
    "#include <iostream>\n",
    "#include <vector>\n",
    "#include <fstream>\n",
    "\n",
    "\n",
    "\n",
    "template <typename T>\n",
    "class CMatrix {\n",
    "  public:\n",
    "    int size;\n",
    "    std::vector<T> data;\n",
    "    CMatrix(int N){\n",
    "      size = N;\n",
    "      data.resize(N*N);\n",
    "    }\n",
    "    CMatrix(){};\n",
    "    void print_to_file(const std::string& file);\n",
    "    void read_from_file(const std::string& file);\n",
    "    CMatrix<T> operator*(const CMatrix<T>& B);\n",
    "   \n",
    "};\n",
    "\n",
    "\n",
    "template <typename T>\n",
    "void CMatrix<T>::read_from_file(const std::string& file){\n",
    "  std::ifstream filevar(file);\n",
    "  if(filevar){\n",
    "      filevar>>size;\n",
    "      data.resize(size*size);\n",
    "  for (int i=0;i<size;++i) {\n",
    "    for (int j=0;j<size;++j) {\n",
    "      filevar>>data[i*size+j];\n",
    "    }\n",
    "  }\n",
    "  filevar.close();}\n",
    "    else{\n",
    "    std::cout<<\"coudn't open the file \"<<file<<std::endl;    \n",
    "  }\n",
    "};\n",
    "\n",
    "\n",
    "\n",
    "template <typename T>\n",
    "void CMatrix<T>::print_to_file(const std::string& file){\n",
    "  std::ofstream filevar(file);\n",
    "  filevar<<size<<std::endl;\n",
    "  for (int i=0;i<size;++i) {\n",
    "    for (int j=0;j<size;++j) {\n",
    "      filevar<<data[i*size+j]<<\" \";\n",
    "    }\n",
    "    filevar<<std::endl;\n",
    "  }\n",
    "  filevar.close();\n",
    "};\n",
    "\n",
    "template <typename T>\n",
    "CMatrix<T> CMatrix<T>::operator*(const CMatrix<T>& B){\n",
    "  if (size != B.size) {\n",
    "    std::cout<<\"The two matrices are not of the same size! The result will be nonsense.\"<<std::endl;\n",
    "  }\n",
    "    CMatrix<T> C(size);\n",
    "    for (int i=0;i<size;i++){\n",
    "\t\tfor (int j=0;j<size;j++){\n",
    "\t\t\tfor (int k=0;k<size;k++){\n",
    "\t\t\t\tC.data[i*size + j]+=data[i*size + k]*B.data[k*size + j];\n",
    "\t\t\t}\n",
    "\t\t}\n",
    "\t}\n",
    "\treturn C;\n",
    "};\n",
    "\n",
    "\n",
    "\n",
    "int old_main (){\n",
    "  CMatrix<double> A,B;\n",
    "  A.read_from_file(\"A.txt\");\n",
    "  B.read_from_file(\"B.txt\");\n",
    "  auto C=A*B;\n",
    "  C.print_to_file(\"C.txt\");\n",
    "  \n",
    "  return 0;\n",
    "}\n",
    "\n",
    "```"
   ]
  },
  {
   "cell_type": "markdown",
   "id": "e6f4f6f5-6173-4429-8be4-bda2cef0592f",
   "metadata": {},
   "source": [
    "# Testing a simple function call without arguments\n",
    "\n",
    "matrix_cpp.cpp\n",
    "\n",
    "```c++\n",
    "#include \"matrix_cpp.hpp\"\n",
    "#include <pybind11/pybind11.h>\n",
    "\n",
    "PYBIND11_MODULE(matrix_cpp, m) {\n",
    "    m.doc() = \"This module uses the c++ code to perform simple matrix multiplications\"; // optional module docstring\n",
    "\n",
    "    m.def(\"test_func\", &old_main, \"execute old main code\");\n",
    "\n",
    "}\n",
    "\n",
    "```\n",
    "\n",
    "now we compile the library (adapt the command to your C++ compiler)"
   ]
  },
  {
   "cell_type": "code",
   "execution_count": 2,
   "id": "49960f44-2adc-4260-8c0e-a854e4d800a0",
   "metadata": {},
   "outputs": [],
   "source": [
    "!c++ -O3 -Wall -shared -std=c++14 -fPIC $(python3 -m pybind11 --includes) matrix_cpp.cpp -o matrix_cpp$(python3-config --extension-suffix)"
   ]
  },
  {
   "cell_type": "markdown",
   "id": "7ab99ec5-f6e1-4119-94b0-1aad036d057a",
   "metadata": {},
   "source": [
    "Note: on my system `import matrix_cpp` will look for `matrix_cpp.cpython-310-x86_64-linux-gnu.so`. The name of the file depends on the python version to avoid conflicts."
   ]
  },
  {
   "cell_type": "code",
   "execution_count": 3,
   "id": "a45bf048-77b3-452b-b3b7-db65fc48089f",
   "metadata": {},
   "outputs": [],
   "source": [
    "import matrix_cpp"
   ]
  },
  {
   "cell_type": "code",
   "execution_count": 4,
   "id": "134e178e-d894-4402-a3cb-6e1f33b9e87b",
   "metadata": {},
   "outputs": [
    {
     "data": {
      "text/plain": [
       "\u001b[0;31mType:\u001b[0m        module\n",
       "\u001b[0;31mString form:\u001b[0m <module 'matrix_cpp' from '/u/r/rbertoss/Documents/lection_pybind11/AdvancedProgramming_dssc22/python/pybind11/matrix_cpp.cpython-310-x86_64-linux-gnu.so'>\n",
       "\u001b[0;31mFile:\u001b[0m        ~/Documents/lection_pybind11/AdvancedProgramming_dssc22/python/pybind11/matrix_cpp.cpython-310-x86_64-linux-gnu.so\n",
       "\u001b[0;31mDocstring:\u001b[0m   This module uses the c++ code to perform simple matrix multiplications\n"
      ]
     },
     "metadata": {},
     "output_type": "display_data"
    }
   ],
   "source": [
    "matrix_cpp?"
   ]
  },
  {
   "cell_type": "code",
   "execution_count": 5,
   "id": "a32af076-d47c-43e6-b884-e42f2d60e5ca",
   "metadata": {},
   "outputs": [],
   "source": [
    "with open('A.txt','w') as f:\n",
    "    f.write('''3\n",
    "1 2 3\n",
    "2 3 4\n",
    "6 7 8''')\n",
    "with open('B.txt','w') as f:\n",
    "    f.write('''3\n",
    "2 0 0\n",
    "0 2 0\n",
    "1 0 2''')"
   ]
  },
  {
   "cell_type": "code",
   "execution_count": 6,
   "id": "ff6e8806-ad67-4744-95ce-1cff7def8ec2",
   "metadata": {},
   "outputs": [
    {
     "data": {
      "text/plain": [
       "\u001b[0;31mDocstring:\u001b[0m\n",
       "test_func() -> int\n",
       "\n",
       "execute old main code\n",
       "\u001b[0;31mType:\u001b[0m      builtin_function_or_method\n"
      ]
     },
     "metadata": {},
     "output_type": "display_data"
    }
   ],
   "source": [
    "matrix_cpp.test_func?"
   ]
  },
  {
   "cell_type": "code",
   "execution_count": 7,
   "id": "9bf80a23-7024-4124-80ab-efed3b088d68",
   "metadata": {
    "tags": []
   },
   "outputs": [
    {
     "data": {
      "text/plain": [
       "0"
      ]
     },
     "execution_count": 7,
     "metadata": {},
     "output_type": "execute_result"
    }
   ],
   "source": [
    "matrix_cpp.test_func()"
   ]
  },
  {
   "cell_type": "code",
   "execution_count": 8,
   "id": "2e85556c-d23a-41e0-a302-ba8986546e5d",
   "metadata": {},
   "outputs": [
    {
     "name": "stdout",
     "output_type": "stream",
     "text": [
      "3\n",
      "5 4 6 \n",
      "8 6 8 \n",
      "20 14 16 \n",
      "\n"
     ]
    }
   ],
   "source": [
    "with open('C.txt','r') as f:\n",
    "    print(f.read())"
   ]
  },
  {
   "cell_type": "markdown",
   "id": "678ff364-6a41-4f00-a5dd-6819a179e53d",
   "metadata": {},
   "source": [
    "# Using a C++ class from python\n",
    "\n",
    "matrix_cpp.cpp\n",
    "\n",
    "```c++\n",
    "#include \"matrix_cpp.hpp\"\n",
    "#include <pybind11/pybind11.h>\n",
    "\n",
    "PYBIND11_MODULE(matrix_cpp, m) {\n",
    "    m.doc() = \"This module uses the c++ code to perform simple matrix multiplications\"; // optional module docstring\n",
    "\n",
    "    m.def(\"test_func\", &old_main, \"execute old main code\");\n",
    "    using DCMatrix = CMatrix<double>;\n",
    "    pybind11::class_<DCMatrix > (m, \"CMatrix\")\n",
    "            .def(pybind11::init<>())\n",
    "            .def(\"read_from_file\",&DCMatrix::read_from_file)\n",
    "            .def(\"print_to_file\",&DCMatrix::print_to_file)\n",
    "            .def(\"multiply\",&DCMatrix::operator*)\n",
    "            .def(\"assign\",\n",
    "                           static_cast< DCMatrix&(DCMatrix::*)( const DCMatrix &) > // select the assignment operator\n",
    "                            (&DCMatrix::operator=)\n",
    "                            )\n",
    "            ;\n",
    "\n",
    "}\n",
    "\n",
    "```"
   ]
  },
  {
   "cell_type": "markdown",
   "id": "8996f9a8-db00-4d3a-9f6d-ebb16c54700a",
   "metadata": {},
   "source": [
    "Better restart the python kernel after compiling the library..."
   ]
  },
  {
   "cell_type": "code",
   "execution_count": 9,
   "id": "c800ba29-aa19-4ad7-a376-cea5f85e9991",
   "metadata": {},
   "outputs": [],
   "source": [
    "A=matrix_cpp.CMatrix()\n",
    "B=matrix_cpp.CMatrix()"
   ]
  },
  {
   "cell_type": "code",
   "execution_count": 10,
   "id": "546ec655-ccaa-4f4e-9f45-3b4c2b0065a4",
   "metadata": {},
   "outputs": [
    {
     "data": {
      "text/plain": [
       "\u001b[0;31mDocstring:\u001b[0m read_from_file(self: matrix_cpp.CMatrix, arg0: str) -> None\n",
       "\u001b[0;31mType:\u001b[0m      method\n"
      ]
     },
     "metadata": {},
     "output_type": "display_data"
    }
   ],
   "source": [
    "A.read_from_file?"
   ]
  },
  {
   "cell_type": "code",
   "execution_count": 11,
   "id": "7d95f62a-62e1-47d4-81e6-70f951ba211d",
   "metadata": {},
   "outputs": [],
   "source": [
    "A.read_from_file(\"A.txt\")\n",
    "B.read_from_file(\"B.txt\")"
   ]
  },
  {
   "cell_type": "code",
   "execution_count": 12,
   "id": "81c42b32-2311-471d-97a9-dc2632221fa3",
   "metadata": {},
   "outputs": [],
   "source": [
    "C=A.multiply(B)"
   ]
  },
  {
   "cell_type": "code",
   "execution_count": 13,
   "id": "01b26b7d-1b05-42a3-aa18-b5b09fbf5da6",
   "metadata": {},
   "outputs": [
    {
     "data": {
      "text/plain": [
       "<matrix_cpp.CMatrix at 0x7fcce8870c30>"
      ]
     },
     "execution_count": 13,
     "metadata": {},
     "output_type": "execute_result"
    }
   ],
   "source": [
    "A"
   ]
  },
  {
   "cell_type": "code",
   "execution_count": 14,
   "id": "743d9c03-7fc5-4d5b-8d2c-4b4517028fed",
   "metadata": {},
   "outputs": [
    {
     "data": {
      "text/plain": [
       "<matrix_cpp.CMatrix at 0x7fcce8870cb0>"
      ]
     },
     "execution_count": 14,
     "metadata": {},
     "output_type": "execute_result"
    }
   ],
   "source": [
    "B"
   ]
  },
  {
   "cell_type": "code",
   "execution_count": 15,
   "id": "b4003920-4bdf-4b11-b895-715eeb79de4f",
   "metadata": {},
   "outputs": [
    {
     "data": {
      "text/plain": [
       "<matrix_cpp.CMatrix at 0x7fcce88736b0>"
      ]
     },
     "execution_count": 15,
     "metadata": {},
     "output_type": "execute_result"
    }
   ],
   "source": [
    "C"
   ]
  },
  {
   "cell_type": "code",
   "execution_count": 16,
   "id": "b1136a71-9c3f-423a-b46b-33019cc056e0",
   "metadata": {},
   "outputs": [],
   "source": [
    "C.print_to_file(\"C_python.txt\")"
   ]
  },
  {
   "cell_type": "code",
   "execution_count": 17,
   "id": "a7e0e2d9-77c1-4a4e-8ea0-34aa2fb7a593",
   "metadata": {},
   "outputs": [
    {
     "name": "stdout",
     "output_type": "stream",
     "text": [
      "3\n",
      "5 4 6 \n",
      "8 6 8 \n",
      "20 14 16 \n",
      "\n"
     ]
    }
   ],
   "source": [
    "with open('C_python.txt','r') as f:\n",
    "    print(f.read())"
   ]
  },
  {
   "cell_type": "code",
   "execution_count": 18,
   "id": "8becb311-78ff-4d0c-89b0-e052d2d20e96",
   "metadata": {},
   "outputs": [],
   "source": [
    "D=matrix_cpp.CMatrix()"
   ]
  },
  {
   "cell_type": "code",
   "execution_count": 19,
   "id": "9d505f91-227d-4bac-91b6-3a3d19cb8bad",
   "metadata": {},
   "outputs": [
    {
     "data": {
      "text/plain": [
       "<matrix_cpp.CMatrix at 0x7fcce889d3f0>"
      ]
     },
     "execution_count": 19,
     "metadata": {},
     "output_type": "execute_result"
    }
   ],
   "source": [
    "D.assign(C)"
   ]
  },
  {
   "cell_type": "code",
   "execution_count": 20,
   "id": "62dff41f-e439-4a30-be16-edd97449fc11",
   "metadata": {},
   "outputs": [],
   "source": [
    "D.print_to_file(\"D_python.txt\")"
   ]
  },
  {
   "cell_type": "code",
   "execution_count": 21,
   "id": "4ea11f71-8d09-4b51-b07a-47395b38928f",
   "metadata": {
    "tags": []
   },
   "outputs": [
    {
     "name": "stdout",
     "output_type": "stream",
     "text": [
      "3\n",
      "5 4 6 \n",
      "8 6 8 \n",
      "20 14 16 \n",
      "\n"
     ]
    }
   ],
   "source": [
    "with open('D_python.txt','r') as f:\n",
    "    print(f.read())"
   ]
  },
  {
   "cell_type": "markdown",
   "id": "48dc7202-a721-4189-abcf-ac1ea5d65b72",
   "metadata": {
    "tags": []
   },
   "source": [
    "# Passing data from C++ to python\n",
    "\n",
    "\n",
    "buffer protocol interface\n",
    "\n",
    "https://pybind11.readthedocs.io/en/stable/advanced/pycpp/numpy.html\n",
    "\n",
    "First from C++ to python (easy)\n",
    "\n",
    "```c++\n",
    "#include \"matrix_cpp.hpp\"\n",
    "#include <pybind11/pybind11.h>\n",
    "#include <pybind11/numpy.h>\n",
    "#include <stdexcept>\n",
    "#include <algorithm>\n",
    "\n",
    "PYBIND11_MODULE(matrix_cpp, m) {\n",
    "    m.doc() = \"This module uses the c++ code to perform simple matrix multiplications\"; // optional module docstring\n",
    "\n",
    "    m.def(\"test_func\", &old_main, \"execute old main code\");\n",
    "    using DCMatrix = CMatrix<double>;\n",
    "    pybind11::class_<DCMatrix > (m, \"CMatrix\")\n",
    "            .def(pybind11::init<>())\n",
    "            .def(\"read_from_file\",&DCMatrix::read_from_file)\n",
    "            .def(\"print_to_file\",&DCMatrix::print_to_file)\n",
    "            .def(\"multiply\",&DCMatrix::operator*)\n",
    "            .def(\"assign\",\n",
    "                           static_cast< DCMatrix&(DCMatrix::*)( const DCMatrix &) >\n",
    "                            (&DCMatrix::operator=)\n",
    "                            )\n",
    "            .def(\"get_data\", [](const DCMatrix & d)\n",
    "                {\n",
    "                   //allocate copy of matrix data and pass it to python domain\n",
    "                   //Python decides when to destroy the object.\n",
    "                   //The data is completely given to the python world\n",
    "                   \n",
    "                   if (d.size <=0 ) {\n",
    "                      throw std::runtime_error(\"matrix is empty\");\n",
    "                   }\n",
    "                   auto * python_data = new double[d.size*d.size];\n",
    "                   std::copy(d.data.begin(),d.data.end(),python_data);\n",
    "\n",
    "                   //little routine that is called when\n",
    "                   // the object is collected by the garbage collector\n",
    "                   pybind11::capsule free_when_done(python_data, [] (void * pointer) {\n",
    "                       std::cout << \"freeing memory @ \" << pointer <<std::endl;\n",
    "                       delete [] static_cast<double*>(pointer);\n",
    "                   });\n",
    "\n",
    "                   return pybind11::array_t<double>( // array_t is in pybind11/numpy.h\n",
    "                       {{d.size,d.size}},//shape\n",
    "                       {d.size*sizeof(double),sizeof(double)}, //stride\n",
    "                       python_data,\n",
    "                       free_when_done\n",
    "                   );\n",
    "\n",
    "                }\n",
    "               )\n",
    "            ;\n",
    "\n",
    "}\n",
    "```\n"
   ]
  },
  {
   "cell_type": "code",
   "execution_count": 22,
   "id": "e8ce2acd-8764-429e-b5d6-52c2527b8926",
   "metadata": {},
   "outputs": [],
   "source": [
    "data=C.get_data()"
   ]
  },
  {
   "cell_type": "code",
   "execution_count": 23,
   "id": "060c1f41-7a68-4a4c-a437-8be2c69e3477",
   "metadata": {},
   "outputs": [
    {
     "data": {
      "text/plain": [
       "array([[ 5.,  4.,  6.],\n",
       "       [ 8.,  6.,  8.],\n",
       "       [20., 14., 16.]])"
      ]
     },
     "execution_count": 23,
     "metadata": {},
     "output_type": "execute_result"
    }
   ],
   "source": [
    "data"
   ]
  },
  {
   "cell_type": "markdown",
   "id": "583cbc96-08a3-48ed-8dd3-efbf184f78a7",
   "metadata": {},
   "source": [
    "# Passing data from python to C++\n",
    "\n",
    "The direction python -> C++ is difficult because python buffer protocol supports a lot of memory layouts, to make the computation more efficient. Since we don't want to reimplement all possible layout for our simple C++ toy code, we check that the data that python passes is a simple contiguous array. \n",
    "\n",
    "```c++\n",
    "#include \"matrix_cpp.hpp\"\n",
    "#include <pybind11/pybind11.h>\n",
    "#include <pybind11/numpy.h>\n",
    "#include <stdexcept>\n",
    "#include <algorithm> \n",
    "\n",
    "PYBIND11_MODULE(matrix_cpp, m) {\n",
    "    m.doc() = \"This module uses the c++ code to perform simple matrix multiplications\"; // optional module docstring\n",
    "\n",
    "    m.def(\"test_func\", &old_main, \"execute old main code\");\n",
    "    using DCMatrix = CMatrix<double>;\n",
    "    pybind11::class_<DCMatrix > (m, \"CMatrix\")\n",
    "            .def(pybind11::init<>())\n",
    "            .def(\"read_from_file\",&DCMatrix::read_from_file)\n",
    "            .def(\"print_to_file\",&DCMatrix::print_to_file)\n",
    "            .def(\"multiply\",&DCMatrix::operator*)\n",
    "            .def(\"assign\",\n",
    "                           static_cast< DCMatrix&(DCMatrix::*)( const DCMatrix &) >\n",
    "                            (&DCMatrix::operator=)\n",
    "                            )\n",
    "            .def(\"get_data\", [](const DCMatrix & d)\n",
    "                {\n",
    "                   //allocate copy of matrix data and pass it to python domain\n",
    "                   //Python decides when to destroy the object.\n",
    "                   //The data is completely given to the python world\n",
    "\n",
    "                   if (d.size <=0 ) {\n",
    "                      throw std::runtime_error(\"matrix is empty\"); \n",
    "                   }\n",
    "                   auto * python_data = new double[d.size*d.size]; \n",
    "                   std::copy(d.data.begin(),d.data.end(),python_data);\n",
    "\n",
    "\n",
    "                   //little routine that is called when\n",
    "                   // the object is collected by the garbage collector\n",
    "                   pybind11::capsule free_when_done(python_data, [] (void * pointer) {\n",
    "                       std::cout << \"freeing memory @ \" << pointer <<std::endl;\n",
    "                       delete [] static_cast<double*>(pointer);\n",
    "                   });\n",
    "\n",
    "                   return pybind11::array_t<double>( // array_t is in pybind11/numpy.h\n",
    "                       {{d.size,d.size}},//shape\n",
    "                       {d.size*sizeof(double),sizeof(double)}, //stride\n",
    "                       python_data,\n",
    "                       free_when_done\n",
    "                   );\n",
    "\n",
    "                }\n",
    "               )\n",
    "            .def(\"set_data\",[](DCMatrix &d, const pybind11::buffer numpy_matrix)\n",
    "                {  \n",
    "                   //get info of python array\n",
    "                   pybind11::buffer_info info{numpy_matrix.request()};\n",
    "                   //check that we are dealing with an array of double\n",
    "                   if (info.format != pybind11::format_descriptor<double>::format()) {\n",
    "                      throw std::runtime_error(\"we can accept only a matrix made with C double type\");\n",
    "                   }\n",
    "                   //sanity check\n",
    "                   if (info.ndim != 2) {\n",
    "                       throw std::runtime_error(\"dimension of array must be 2\");\n",
    "                   }\n",
    "                   if (info.shape[0] != info.shape[1]){\n",
    "                       throw std::runtime_error(\"we implemented only square matrices, sorry\");\n",
    "                   }\n",
    "                   if (info.shape[0]<=0) {\n",
    "                      throw std::runtime_error(\"dimension of the matrix is zero\");\n",
    "                   }\n",
    "                   // to simplify the logic, implement only contiguous arrays. Check that the array is contiguous\n",
    "                   ssize_t stride=sizeof(double);\n",
    "                   for (int i=info.ndim-1;i>=0;--i){\n",
    "                      if (info.strides[i] != stride) {\n",
    "                         throw std::runtime_error(\"sorry, we don't support a non-contiguous matrix\");\n",
    "                      }\n",
    "                      stride *= info.shape[i];\n",
    "                   }\n",
    "\n",
    "                   //all sanity checks are passed, copy the data\n",
    "                   d = DCMatrix(info.shape[0]); //use assignment to not write other code...\n",
    "                   std::copy(static_cast<double*>(info.ptr),static_cast<double*>(info.ptr)+info.shape[0]*info.shape[1],d.data.begin());\n",
    "                   //c++ is responsable of this data (managed by the vector class)\n",
    "                }\n",
    "               )\n",
    "            ;\n",
    "\n",
    "}\n",
    "\n",
    "```"
   ]
  },
  {
   "cell_type": "code",
   "execution_count": 24,
   "id": "55f734b5-3fc2-4d66-8ab6-2aafd4218552",
   "metadata": {},
   "outputs": [],
   "source": [
    "import numpy as np"
   ]
  },
  {
   "cell_type": "code",
   "execution_count": 25,
   "id": "88a01049-ee3a-486b-8b8e-f97d6ff32a4c",
   "metadata": {},
   "outputs": [],
   "source": [
    "C.set_data(np.array([[1,2,3],[2,3,4],[1,2,3]],dtype=float))"
   ]
  },
  {
   "cell_type": "code",
   "execution_count": 26,
   "id": "ca4ce525-ef1d-46df-a58f-e7de16019873",
   "metadata": {},
   "outputs": [
    {
     "data": {
      "text/plain": [
       "array([[1., 2., 3.],\n",
       "       [2., 3., 4.],\n",
       "       [1., 2., 3.]])"
      ]
     },
     "execution_count": 26,
     "metadata": {},
     "output_type": "execute_result"
    }
   ],
   "source": [
    "C.get_data()"
   ]
  },
  {
   "cell_type": "markdown",
   "id": "e804575c-96b9-4989-abf1-64adc88b188d",
   "metadata": {},
   "source": [
    "## optional: clean the produced files\n",
    "\n",
    "(remove the '#')"
   ]
  },
  {
   "cell_type": "code",
   "execution_count": 27,
   "id": "7ec18e02-785d-4ea9-afa3-c864a0da47a3",
   "metadata": {},
   "outputs": [],
   "source": [
    "!#rm A.txt B.txt C.txt C_python.txt D_python.txt matrix_cpp.*.so"
   ]
  },
  {
   "cell_type": "code",
   "execution_count": null,
   "id": "ee605a85-09b3-4376-aa8e-cf89fe505160",
   "metadata": {},
   "outputs": [],
   "source": []
  }
 ],
 "metadata": {
  "kernelspec": {
   "display_name": "Python 3 (ipykernel)",
   "language": "python",
   "name": "python3"
  },
  "language_info": {
   "codemirror_mode": {
    "name": "ipython",
    "version": 3
   },
   "file_extension": ".py",
   "mimetype": "text/x-python",
   "name": "python",
   "nbconvert_exporter": "python",
   "pygments_lexer": "ipython3",
   "version": "3.10.6"
  }
 },
 "nbformat": 4,
 "nbformat_minor": 5
}
