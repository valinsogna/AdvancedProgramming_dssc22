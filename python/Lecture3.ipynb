{
 "cells": [
  {
   "cell_type": "markdown",
   "id": "578db769-0c2c-4902-b8de-60a8e8c06c8b",
   "metadata": {},
   "source": [
    "### **Classes** "
   ]
  },
  {
   "cell_type": "markdown",
   "id": "16bdde07-ce54-4dde-afe3-5e6e982404fe",
   "metadata": {},
   "source": [
    "We have already seen classes in c++. The general idea remains the same - bundle together certain data and functions that operate on it. We just need to learn the new syntax."
   ]
  },
  {
   "cell_type": "code",
   "execution_count": 7,
   "id": "d399a2da-3c69-4c88-9c57-e48b2e8526ec",
   "metadata": {},
   "outputs": [],
   "source": [
    "class MyFirstClass: #syntax to define a class\n",
    "    \"\"\" My First Class documentation \"\"\"\n",
    "    some_variable = 757 #member variable\n",
    "    \n",
    "    def greet(self): #member function\n",
    "         print(\"Hello, World, I'm a useless class!\")"
   ]
  },
  {
   "cell_type": "code",
   "execution_count": 9,
   "id": "b839a8ad-624a-471c-a85c-dedbce85ee93",
   "metadata": {},
   "outputs": [
    {
     "name": "stdout",
     "output_type": "stream",
     "text": [
      "757\n",
      "Hello, World, I'm a useless class!\n",
      "234\n",
      "can change to string\n"
     ]
    }
   ],
   "source": [
    "myvar = MyFirstClass() #create a class instance\n",
    "print(myvar.some_variable) #print the data\n",
    "myvar.greet() #call a member fucntion\n",
    "myvar.some_variable = 234 #change a member variable\n",
    "print(myvar.some_variable)\n",
    "myvar.some_variable = \"can change to string\" #change a member variable to a different type\n",
    "print(myvar.some_variable)"
   ]
  },
  {
   "cell_type": "code",
   "execution_count": 10,
   "id": "01205200-b2ba-438e-aee9-fcdf3041178c",
   "metadata": {},
   "outputs": [
    {
     "name": "stdout",
     "output_type": "stream",
     "text": [
      "can change to string\n"
     ]
    }
   ],
   "source": [
    "myvar2=MyFirstClass()\n",
    "print(myvar.some_variable)"
   ]
  },
  {
   "cell_type": "code",
   "execution_count": 11,
   "id": "d5d56950-98a9-42b6-a7e5-e90e04eb2bc4",
   "metadata": {},
   "outputs": [],
   "source": [
    " class MySecondClass:\n",
    "    \"\"\" My First Class documentation \"\"\"    \n",
    "    def __init__(self, number):\n",
    "        self.number = number"
   ]
  },
  {
   "cell_type": "markdown",
   "id": "42821d6d-83cc-4cd5-a9d3-48452c34ae07",
   "metadata": {},
   "source": [
    "Note that `self` is obligatory as a first argument to all class functions. On the bright side, you can reuse names of member variables for initialization parameters. Also note that the `init` methode is not really a constructor the way we are used to think of them in c++ as the object is already constructed when it's called."
   ]
  },
  {
   "cell_type": "code",
   "execution_count": 12,
   "id": "850e03e1-5d80-4ad6-be5a-3a3feeeadce9",
   "metadata": {},
   "outputs": [
    {
     "name": "stdout",
     "output_type": "stream",
     "text": [
      "5\n",
      "9\n"
     ]
    }
   ],
   "source": [
    "myvar3=MySecondClass(5)\n",
    "myvar4=MySecondClass(9)\n",
    "print(myvar3.number)\n",
    "print(myvar4.number)"
   ]
  },
  {
   "cell_type": "code",
   "execution_count": 13,
   "id": "0e325f09-84d6-4bbb-8f60-80367b701812",
   "metadata": {},
   "outputs": [
    {
     "name": "stdout",
     "output_type": "stream",
     "text": [
      "99\n",
      "111\n"
     ]
    }
   ],
   "source": [
    "myvar3.number=99\n",
    "myvar4.number=111\n",
    "print(myvar3.number)\n",
    "print(myvar4.number)"
   ]
  },
  {
   "cell_type": "markdown",
   "id": "b7d408a9-9aa9-4e82-bb1e-7f57745dda76",
   "metadata": {},
   "source": [
    "**more surpises:**"
   ]
  },
  {
   "cell_type": "code",
   "execution_count": 21,
   "id": "b915388d-4d1a-4c48-8110-ac37638b39d4",
   "metadata": {},
   "outputs": [
    {
     "name": "stdout",
     "output_type": "stream",
     "text": [
      "8\n",
      "7\n"
     ]
    }
   ],
   "source": [
    "myvar3.new_var=8 #this was not defined in a class, don't do that\n",
    "myvar4.new_var=7\n",
    "print(myvar3.new_var)\n",
    "print(myvar4.new_var)"
   ]
  },
  {
   "cell_type": "code",
   "execution_count": 17,
   "id": "3ea67924-7fd8-4a11-8f98-abc604b65a4b",
   "metadata": {},
   "outputs": [
    {
     "name": "stdout",
     "output_type": "stream",
     "text": [
      "0.1\n",
      "0.2\n"
     ]
    }
   ],
   "source": [
    "myvar.new_var=0.1\n",
    "myvar2.new_var=0.2\n",
    "print(myvar.new_var)\n",
    "print(myvar2.new_var)"
   ]
  },
  {
   "cell_type": "code",
   "execution_count": 19,
   "id": "7be73741-b848-4db2-ae81-e1cd8cd8f0fc",
   "metadata": {},
   "outputs": [
    {
     "name": "stdout",
     "output_type": "stream",
     "text": [
      "111\n",
      "7\n"
     ]
    }
   ],
   "source": [
    "myvar5=myvar4 #just an extra label, not a copy\n",
    "print(myvar5.number)\n",
    "print(myvar5.new_var)"
   ]
  },
  {
   "cell_type": "code",
   "execution_count": 22,
   "id": "c5f3f0a6-8d02-4cee-8afb-839641f02da3",
   "metadata": {},
   "outputs": [
    {
     "name": "stdout",
     "output_type": "stream",
     "text": [
      "hi\n"
     ]
    }
   ],
   "source": [
    "myvar4.number=\"hi\" \n",
    "print(myvar5.number)"
   ]
  },
  {
   "cell_type": "code",
   "execution_count": 23,
   "id": "4216373d-a519-4a3f-8988-8fadd6eced1a",
   "metadata": {},
   "outputs": [
    {
     "name": "stdout",
     "output_type": "stream",
     "text": [
      "<__main__.MySecondClass object at 0x7f2699c94d90>\n"
     ]
    }
   ],
   "source": [
    "print(myvar4) #no actual info, need to define a function for this"
   ]
  },
  {
   "cell_type": "code",
   "execution_count": 1,
   "id": "78cdd797-cc47-41e6-bdfb-e7c2ac4ff641",
   "metadata": {},
   "outputs": [],
   "source": [
    "class MyThirdClass:\n",
    "    def __init__(self,a,b):\n",
    "        self.a=a\n",
    "        self.b=b\n",
    "        \n",
    "    def print(self): #non pythonic way, avoid it\n",
    "        print(self.a,self.b)\n",
    "        \n",
    "    def __str__(self):\n",
    "        return \"{0},{1}\".format(self.a, self.b) #\"converts\" class to a string"
   ]
  },
  {
   "cell_type": "code",
   "execution_count": 2,
   "id": "4b5690b0-ab54-485f-b79e-f63318920adb",
   "metadata": {},
   "outputs": [
    {
     "name": "stdout",
     "output_type": "stream",
     "text": [
      "22,33\n"
     ]
    }
   ],
   "source": [
    "print(MyThirdClass(22,33))"
   ]
  },
  {
   "cell_type": "code",
   "execution_count": 37,
   "id": "67d08980-2515-4a9f-9166-580b6103b338",
   "metadata": {},
   "outputs": [
    {
     "name": "stdout",
     "output_type": "stream",
     "text": [
      "Help on class MyThirdClass in module __main__:\n",
      "\n",
      "class MyThirdClass(builtins.object)\n",
      " |  MyThirdClass(a, b)\n",
      " |  \n",
      " |  Methods defined here:\n",
      " |  \n",
      " |  __init__(self, a, b)\n",
      " |      Initialize self.  See help(type(self)) for accurate signature.\n",
      " |  \n",
      " |  __str__(self)\n",
      " |      Return str(self).\n",
      " |  \n",
      " |  print(self)\n",
      " |  \n",
      " |  ----------------------------------------------------------------------\n",
      " |  Data descriptors defined here:\n",
      " |  \n",
      " |  __dict__\n",
      " |      dictionary for instance variables (if defined)\n",
      " |  \n",
      " |  __weakref__\n",
      " |      list of weak references to the object (if defined)\n",
      "\n"
     ]
    }
   ],
   "source": [
    "help(MyThirdClass)"
   ]
  },
  {
   "cell_type": "code",
   "execution_count": 40,
   "id": "48f1ab8b-9cb9-4ade-b9fe-0dbb11494a82",
   "metadata": {},
   "outputs": [
    {
     "ename": "TypeError",
     "evalue": "unsupported operand type(s) for +: 'MyThirdClass' and 'MyThirdClass'",
     "output_type": "error",
     "traceback": [
      "\u001b[0;31m---------------------------------------------------------------------------\u001b[0m",
      "\u001b[0;31mTypeError\u001b[0m                                 Traceback (most recent call last)",
      "Cell \u001b[0;32mIn [40], line 3\u001b[0m\n\u001b[1;32m      1\u001b[0m var1\u001b[38;5;241m=\u001b[39mMyThirdClass(\u001b[38;5;241m11\u001b[39m,\u001b[38;5;241m22\u001b[39m)\n\u001b[1;32m      2\u001b[0m var2\u001b[38;5;241m=\u001b[39mMyThirdClass(\u001b[38;5;241m22\u001b[39m,\u001b[38;5;241m33\u001b[39m)\n\u001b[0;32m----> 3\u001b[0m \u001b[38;5;28mprint\u001b[39m(\u001b[43mvar1\u001b[49m\u001b[38;5;241;43m+\u001b[39;49m\u001b[43mvar2\u001b[49m)\n",
      "\u001b[0;31mTypeError\u001b[0m: unsupported operand type(s) for +: 'MyThirdClass' and 'MyThirdClass'"
     ]
    }
   ],
   "source": [
    "var1=MyThirdClass(11,22)\n",
    "var2=MyThirdClass(22,33)\n",
    "print(var1+var2) #error"
   ]
  },
  {
   "cell_type": "markdown",
   "id": "e628f5f1-631c-44df-8e26-c75823e0a90e",
   "metadata": {},
   "source": [
    "**Redefining operators:**"
   ]
  },
  {
   "cell_type": "code",
   "execution_count": 46,
   "id": "9f41cd44-5d05-4abe-b991-046be47b3296",
   "metadata": {},
   "outputs": [],
   "source": [
    "class MyThirdClass:\n",
    "    def __init__(self,a,b):\n",
    "        self.a=a\n",
    "        self.b=b\n",
    "        \n",
    "    def print(self): #non pythonic way, avoid it\n",
    "        print(a,b)\n",
    "        \n",
    "    def __add__(self,other):   \n",
    "        a=self.a+other.a\n",
    "        b=self.b+other.b\n",
    "        return MyThirdClass(a,b)\n",
    "        \n",
    "    def __str__(self):\n",
    "        return \"{0},{1}\".format(self.a, self.b) #\"converts\" class to a string"
   ]
  },
  {
   "cell_type": "code",
   "execution_count": 47,
   "id": "98eb5b20-deba-407c-8727-645cedbf6176",
   "metadata": {},
   "outputs": [
    {
     "name": "stdout",
     "output_type": "stream",
     "text": [
      "33,55\n"
     ]
    }
   ],
   "source": [
    "#note that you have to redefine the variables, or they are not updated after we updated the class\n",
    "var1=MyThirdClass(11,22)\n",
    "var2=MyThirdClass(22,33)\n",
    "print(var1+var2) "
   ]
  },
  {
   "cell_type": "markdown",
   "id": "9fcdf27a-c5a8-42c1-ab94-37cbb018b478",
   "metadata": {},
   "source": [
    "## **Mixing the languages: Cython**"
   ]
  },
  {
   "cell_type": "markdown",
   "id": "9f05494f-0e9b-4243-bd26-80c301e16cfd",
   "metadata": {},
   "source": [
    "One of the ways to speed up python code is to convert it into compiled C code. There are a number of ways to do it, let's start with `cython`, do `conda install cython` inside your environment to install it.\n",
    "\n"
   ]
  },
  {
   "cell_type": "code",
   "execution_count": 48,
   "id": "120977e4-28e7-4992-9be5-653f390a0764",
   "metadata": {},
   "outputs": [],
   "source": [
    "%load_ext Cython"
   ]
  },
  {
   "cell_type": "code",
   "execution_count": 49,
   "id": "25948b0d-cf94-4139-8d61-1f71d7cd5b6d",
   "metadata": {},
   "outputs": [],
   "source": [
    "def fib1(N):\n",
    "    a,b = 0,1\n",
    "    for i in range(N):\n",
    "        a,b = b,a+b\n",
    "    return a\n"
   ]
  },
  {
   "cell_type": "code",
   "execution_count": 51,
   "id": "8f13d631-8715-45ed-96c2-c78d3208e3d8",
   "metadata": {},
   "outputs": [
    {
     "name": "stdout",
     "output_type": "stream",
     "text": [
      "1.84 ms ± 41.5 µs per loop (mean ± std. dev. of 7 runs, 100 loops each)\n"
     ]
    }
   ],
   "source": [
    "%%timeit \n",
    "fib1(10000)"
   ]
  },
  {
   "cell_type": "code",
   "execution_count": 52,
   "id": "b6897cac-60e7-4661-a3c8-0904e6925a62",
   "metadata": {},
   "outputs": [],
   "source": [
    "%%cython\n",
    "def fib2(N):\n",
    "    a,b = 0,1\n",
    "    for i in range(N):\n",
    "        a,b = b,a+b\n",
    "    return a"
   ]
  },
  {
   "cell_type": "code",
   "execution_count": 53,
   "id": "c7f30347-f739-4e3a-953b-eedf818a07d4",
   "metadata": {},
   "outputs": [
    {
     "name": "stdout",
     "output_type": "stream",
     "text": [
      "1.6 ms ± 7.63 µs per loop (mean ± std. dev. of 7 runs, 1,000 loops each)\n"
     ]
    }
   ],
   "source": [
    "%%timeit \n",
    "fib2(10000)"
   ]
  },
  {
   "cell_type": "markdown",
   "id": "f1484eac-59d6-431a-a1c5-f922f53c920f",
   "metadata": {},
   "source": [
    "We didn't get much speed up, but still some, just for using `cythion` magic in the cell. Now let's remember that variables can have types:"
   ]
  },
  {
   "cell_type": "code",
   "execution_count": 57,
   "id": "9e400ffe-3732-4411-9f3d-9b69f4370d56",
   "metadata": {},
   "outputs": [],
   "source": [
    "%%cython\n",
    "def fib3(int N):\n",
    "    cdef int i\n",
    "    cdef int a=0,b=1\n",
    "    for i in range(N):\n",
    "        a,b = b,a+b\n",
    "    return a\n"
   ]
  },
  {
   "cell_type": "code",
   "execution_count": 55,
   "id": "82beeffa-f1b3-4ff5-9d20-a3cc49dbf6bc",
   "metadata": {},
   "outputs": [
    {
     "name": "stdout",
     "output_type": "stream",
     "text": [
      "7.06 µs ± 46.2 ns per loop (mean ± std. dev. of 7 runs, 100,000 loops each)\n"
     ]
    }
   ],
   "source": [
    "%%timeit\n",
    "fib3(10000)"
   ]
  },
  {
   "cell_type": "markdown",
   "id": "fdff6633-041b-423d-9f09-1747b9a152f4",
   "metadata": {},
   "source": [
    "Impressive, isn't it? Roughly a 230 times speed up just for using variables with types! \n",
    "We can actually see the generated `c` code if we add `-a` to the magic command:"
   ]
  },
  {
   "cell_type": "code",
   "execution_count": 58,
   "id": "3049edf8-51b5-4082-81d0-c7433198bfc8",
   "metadata": {},
   "outputs": [
    {
     "data": {
      "text/html": [
       "<!DOCTYPE html>\n",
       "<!-- Generated by Cython 0.29.32 -->\n",
       "<html>\n",
       "<head>\n",
       "    <meta http-equiv=\"Content-Type\" content=\"text/html; charset=utf-8\" />\n",
       "    <title>Cython: _cython_magic_4993e823f81a54c667b16ca8ff26867c.pyx</title>\n",
       "    <style type=\"text/css\">\n",
       "    \n",
       "body.cython { font-family: courier; font-size: 12; }\n",
       "\n",
       ".cython.tag  {  }\n",
       ".cython.line { margin: 0em }\n",
       ".cython.code { font-size: 9; color: #444444; display: none; margin: 0px 0px 0px 8px; border-left: 8px none; }\n",
       "\n",
       ".cython.line .run { background-color: #B0FFB0; }\n",
       ".cython.line .mis { background-color: #FFB0B0; }\n",
       ".cython.code.run  { border-left: 8px solid #B0FFB0; }\n",
       ".cython.code.mis  { border-left: 8px solid #FFB0B0; }\n",
       "\n",
       ".cython.code .py_c_api  { color: red; }\n",
       ".cython.code .py_macro_api  { color: #FF7000; }\n",
       ".cython.code .pyx_c_api  { color: #FF3000; }\n",
       ".cython.code .pyx_macro_api  { color: #FF7000; }\n",
       ".cython.code .refnanny  { color: #FFA000; }\n",
       ".cython.code .trace  { color: #FFA000; }\n",
       ".cython.code .error_goto  { color: #FFA000; }\n",
       "\n",
       ".cython.code .coerce  { color: #008000; border: 1px dotted #008000 }\n",
       ".cython.code .py_attr { color: #FF0000; font-weight: bold; }\n",
       ".cython.code .c_attr  { color: #0000FF; }\n",
       ".cython.code .py_call { color: #FF0000; font-weight: bold; }\n",
       ".cython.code .c_call  { color: #0000FF; }\n",
       "\n",
       ".cython.score-0 {background-color: #FFFFff;}\n",
       ".cython.score-1 {background-color: #FFFFe7;}\n",
       ".cython.score-2 {background-color: #FFFFd4;}\n",
       ".cython.score-3 {background-color: #FFFFc4;}\n",
       ".cython.score-4 {background-color: #FFFFb6;}\n",
       ".cython.score-5 {background-color: #FFFFaa;}\n",
       ".cython.score-6 {background-color: #FFFF9f;}\n",
       ".cython.score-7 {background-color: #FFFF96;}\n",
       ".cython.score-8 {background-color: #FFFF8d;}\n",
       ".cython.score-9 {background-color: #FFFF86;}\n",
       ".cython.score-10 {background-color: #FFFF7f;}\n",
       ".cython.score-11 {background-color: #FFFF79;}\n",
       ".cython.score-12 {background-color: #FFFF73;}\n",
       ".cython.score-13 {background-color: #FFFF6e;}\n",
       ".cython.score-14 {background-color: #FFFF6a;}\n",
       ".cython.score-15 {background-color: #FFFF66;}\n",
       ".cython.score-16 {background-color: #FFFF62;}\n",
       ".cython.score-17 {background-color: #FFFF5e;}\n",
       ".cython.score-18 {background-color: #FFFF5b;}\n",
       ".cython.score-19 {background-color: #FFFF57;}\n",
       ".cython.score-20 {background-color: #FFFF55;}\n",
       ".cython.score-21 {background-color: #FFFF52;}\n",
       ".cython.score-22 {background-color: #FFFF4f;}\n",
       ".cython.score-23 {background-color: #FFFF4d;}\n",
       ".cython.score-24 {background-color: #FFFF4b;}\n",
       ".cython.score-25 {background-color: #FFFF48;}\n",
       ".cython.score-26 {background-color: #FFFF46;}\n",
       ".cython.score-27 {background-color: #FFFF44;}\n",
       ".cython.score-28 {background-color: #FFFF43;}\n",
       ".cython.score-29 {background-color: #FFFF41;}\n",
       ".cython.score-30 {background-color: #FFFF3f;}\n",
       ".cython.score-31 {background-color: #FFFF3e;}\n",
       ".cython.score-32 {background-color: #FFFF3c;}\n",
       ".cython.score-33 {background-color: #FFFF3b;}\n",
       ".cython.score-34 {background-color: #FFFF39;}\n",
       ".cython.score-35 {background-color: #FFFF38;}\n",
       ".cython.score-36 {background-color: #FFFF37;}\n",
       ".cython.score-37 {background-color: #FFFF36;}\n",
       ".cython.score-38 {background-color: #FFFF35;}\n",
       ".cython.score-39 {background-color: #FFFF34;}\n",
       ".cython.score-40 {background-color: #FFFF33;}\n",
       ".cython.score-41 {background-color: #FFFF32;}\n",
       ".cython.score-42 {background-color: #FFFF31;}\n",
       ".cython.score-43 {background-color: #FFFF30;}\n",
       ".cython.score-44 {background-color: #FFFF2f;}\n",
       ".cython.score-45 {background-color: #FFFF2e;}\n",
       ".cython.score-46 {background-color: #FFFF2d;}\n",
       ".cython.score-47 {background-color: #FFFF2c;}\n",
       ".cython.score-48 {background-color: #FFFF2b;}\n",
       ".cython.score-49 {background-color: #FFFF2b;}\n",
       ".cython.score-50 {background-color: #FFFF2a;}\n",
       ".cython.score-51 {background-color: #FFFF29;}\n",
       ".cython.score-52 {background-color: #FFFF29;}\n",
       ".cython.score-53 {background-color: #FFFF28;}\n",
       ".cython.score-54 {background-color: #FFFF27;}\n",
       ".cython.score-55 {background-color: #FFFF27;}\n",
       ".cython.score-56 {background-color: #FFFF26;}\n",
       ".cython.score-57 {background-color: #FFFF26;}\n",
       ".cython.score-58 {background-color: #FFFF25;}\n",
       ".cython.score-59 {background-color: #FFFF24;}\n",
       ".cython.score-60 {background-color: #FFFF24;}\n",
       ".cython.score-61 {background-color: #FFFF23;}\n",
       ".cython.score-62 {background-color: #FFFF23;}\n",
       ".cython.score-63 {background-color: #FFFF22;}\n",
       ".cython.score-64 {background-color: #FFFF22;}\n",
       ".cython.score-65 {background-color: #FFFF22;}\n",
       ".cython.score-66 {background-color: #FFFF21;}\n",
       ".cython.score-67 {background-color: #FFFF21;}\n",
       ".cython.score-68 {background-color: #FFFF20;}\n",
       ".cython.score-69 {background-color: #FFFF20;}\n",
       ".cython.score-70 {background-color: #FFFF1f;}\n",
       ".cython.score-71 {background-color: #FFFF1f;}\n",
       ".cython.score-72 {background-color: #FFFF1f;}\n",
       ".cython.score-73 {background-color: #FFFF1e;}\n",
       ".cython.score-74 {background-color: #FFFF1e;}\n",
       ".cython.score-75 {background-color: #FFFF1e;}\n",
       ".cython.score-76 {background-color: #FFFF1d;}\n",
       ".cython.score-77 {background-color: #FFFF1d;}\n",
       ".cython.score-78 {background-color: #FFFF1c;}\n",
       ".cython.score-79 {background-color: #FFFF1c;}\n",
       ".cython.score-80 {background-color: #FFFF1c;}\n",
       ".cython.score-81 {background-color: #FFFF1c;}\n",
       ".cython.score-82 {background-color: #FFFF1b;}\n",
       ".cython.score-83 {background-color: #FFFF1b;}\n",
       ".cython.score-84 {background-color: #FFFF1b;}\n",
       ".cython.score-85 {background-color: #FFFF1a;}\n",
       ".cython.score-86 {background-color: #FFFF1a;}\n",
       ".cython.score-87 {background-color: #FFFF1a;}\n",
       ".cython.score-88 {background-color: #FFFF1a;}\n",
       ".cython.score-89 {background-color: #FFFF19;}\n",
       ".cython.score-90 {background-color: #FFFF19;}\n",
       ".cython.score-91 {background-color: #FFFF19;}\n",
       ".cython.score-92 {background-color: #FFFF19;}\n",
       ".cython.score-93 {background-color: #FFFF18;}\n",
       ".cython.score-94 {background-color: #FFFF18;}\n",
       ".cython.score-95 {background-color: #FFFF18;}\n",
       ".cython.score-96 {background-color: #FFFF18;}\n",
       ".cython.score-97 {background-color: #FFFF17;}\n",
       ".cython.score-98 {background-color: #FFFF17;}\n",
       ".cython.score-99 {background-color: #FFFF17;}\n",
       ".cython.score-100 {background-color: #FFFF17;}\n",
       ".cython.score-101 {background-color: #FFFF16;}\n",
       ".cython.score-102 {background-color: #FFFF16;}\n",
       ".cython.score-103 {background-color: #FFFF16;}\n",
       ".cython.score-104 {background-color: #FFFF16;}\n",
       ".cython.score-105 {background-color: #FFFF16;}\n",
       ".cython.score-106 {background-color: #FFFF15;}\n",
       ".cython.score-107 {background-color: #FFFF15;}\n",
       ".cython.score-108 {background-color: #FFFF15;}\n",
       ".cython.score-109 {background-color: #FFFF15;}\n",
       ".cython.score-110 {background-color: #FFFF15;}\n",
       ".cython.score-111 {background-color: #FFFF15;}\n",
       ".cython.score-112 {background-color: #FFFF14;}\n",
       ".cython.score-113 {background-color: #FFFF14;}\n",
       ".cython.score-114 {background-color: #FFFF14;}\n",
       ".cython.score-115 {background-color: #FFFF14;}\n",
       ".cython.score-116 {background-color: #FFFF14;}\n",
       ".cython.score-117 {background-color: #FFFF14;}\n",
       ".cython.score-118 {background-color: #FFFF13;}\n",
       ".cython.score-119 {background-color: #FFFF13;}\n",
       ".cython.score-120 {background-color: #FFFF13;}\n",
       ".cython.score-121 {background-color: #FFFF13;}\n",
       ".cython.score-122 {background-color: #FFFF13;}\n",
       ".cython.score-123 {background-color: #FFFF13;}\n",
       ".cython.score-124 {background-color: #FFFF13;}\n",
       ".cython.score-125 {background-color: #FFFF12;}\n",
       ".cython.score-126 {background-color: #FFFF12;}\n",
       ".cython.score-127 {background-color: #FFFF12;}\n",
       ".cython.score-128 {background-color: #FFFF12;}\n",
       ".cython.score-129 {background-color: #FFFF12;}\n",
       ".cython.score-130 {background-color: #FFFF12;}\n",
       ".cython.score-131 {background-color: #FFFF12;}\n",
       ".cython.score-132 {background-color: #FFFF11;}\n",
       ".cython.score-133 {background-color: #FFFF11;}\n",
       ".cython.score-134 {background-color: #FFFF11;}\n",
       ".cython.score-135 {background-color: #FFFF11;}\n",
       ".cython.score-136 {background-color: #FFFF11;}\n",
       ".cython.score-137 {background-color: #FFFF11;}\n",
       ".cython.score-138 {background-color: #FFFF11;}\n",
       ".cython.score-139 {background-color: #FFFF11;}\n",
       ".cython.score-140 {background-color: #FFFF11;}\n",
       ".cython.score-141 {background-color: #FFFF10;}\n",
       ".cython.score-142 {background-color: #FFFF10;}\n",
       ".cython.score-143 {background-color: #FFFF10;}\n",
       ".cython.score-144 {background-color: #FFFF10;}\n",
       ".cython.score-145 {background-color: #FFFF10;}\n",
       ".cython.score-146 {background-color: #FFFF10;}\n",
       ".cython.score-147 {background-color: #FFFF10;}\n",
       ".cython.score-148 {background-color: #FFFF10;}\n",
       ".cython.score-149 {background-color: #FFFF10;}\n",
       ".cython.score-150 {background-color: #FFFF0f;}\n",
       ".cython.score-151 {background-color: #FFFF0f;}\n",
       ".cython.score-152 {background-color: #FFFF0f;}\n",
       ".cython.score-153 {background-color: #FFFF0f;}\n",
       ".cython.score-154 {background-color: #FFFF0f;}\n",
       ".cython.score-155 {background-color: #FFFF0f;}\n",
       ".cython.score-156 {background-color: #FFFF0f;}\n",
       ".cython.score-157 {background-color: #FFFF0f;}\n",
       ".cython.score-158 {background-color: #FFFF0f;}\n",
       ".cython.score-159 {background-color: #FFFF0f;}\n",
       ".cython.score-160 {background-color: #FFFF0f;}\n",
       ".cython.score-161 {background-color: #FFFF0e;}\n",
       ".cython.score-162 {background-color: #FFFF0e;}\n",
       ".cython.score-163 {background-color: #FFFF0e;}\n",
       ".cython.score-164 {background-color: #FFFF0e;}\n",
       ".cython.score-165 {background-color: #FFFF0e;}\n",
       ".cython.score-166 {background-color: #FFFF0e;}\n",
       ".cython.score-167 {background-color: #FFFF0e;}\n",
       ".cython.score-168 {background-color: #FFFF0e;}\n",
       ".cython.score-169 {background-color: #FFFF0e;}\n",
       ".cython.score-170 {background-color: #FFFF0e;}\n",
       ".cython.score-171 {background-color: #FFFF0e;}\n",
       ".cython.score-172 {background-color: #FFFF0e;}\n",
       ".cython.score-173 {background-color: #FFFF0d;}\n",
       ".cython.score-174 {background-color: #FFFF0d;}\n",
       ".cython.score-175 {background-color: #FFFF0d;}\n",
       ".cython.score-176 {background-color: #FFFF0d;}\n",
       ".cython.score-177 {background-color: #FFFF0d;}\n",
       ".cython.score-178 {background-color: #FFFF0d;}\n",
       ".cython.score-179 {background-color: #FFFF0d;}\n",
       ".cython.score-180 {background-color: #FFFF0d;}\n",
       ".cython.score-181 {background-color: #FFFF0d;}\n",
       ".cython.score-182 {background-color: #FFFF0d;}\n",
       ".cython.score-183 {background-color: #FFFF0d;}\n",
       ".cython.score-184 {background-color: #FFFF0d;}\n",
       ".cython.score-185 {background-color: #FFFF0d;}\n",
       ".cython.score-186 {background-color: #FFFF0d;}\n",
       ".cython.score-187 {background-color: #FFFF0c;}\n",
       ".cython.score-188 {background-color: #FFFF0c;}\n",
       ".cython.score-189 {background-color: #FFFF0c;}\n",
       ".cython.score-190 {background-color: #FFFF0c;}\n",
       ".cython.score-191 {background-color: #FFFF0c;}\n",
       ".cython.score-192 {background-color: #FFFF0c;}\n",
       ".cython.score-193 {background-color: #FFFF0c;}\n",
       ".cython.score-194 {background-color: #FFFF0c;}\n",
       ".cython.score-195 {background-color: #FFFF0c;}\n",
       ".cython.score-196 {background-color: #FFFF0c;}\n",
       ".cython.score-197 {background-color: #FFFF0c;}\n",
       ".cython.score-198 {background-color: #FFFF0c;}\n",
       ".cython.score-199 {background-color: #FFFF0c;}\n",
       ".cython.score-200 {background-color: #FFFF0c;}\n",
       ".cython.score-201 {background-color: #FFFF0c;}\n",
       ".cython.score-202 {background-color: #FFFF0c;}\n",
       ".cython.score-203 {background-color: #FFFF0b;}\n",
       ".cython.score-204 {background-color: #FFFF0b;}\n",
       ".cython.score-205 {background-color: #FFFF0b;}\n",
       ".cython.score-206 {background-color: #FFFF0b;}\n",
       ".cython.score-207 {background-color: #FFFF0b;}\n",
       ".cython.score-208 {background-color: #FFFF0b;}\n",
       ".cython.score-209 {background-color: #FFFF0b;}\n",
       ".cython.score-210 {background-color: #FFFF0b;}\n",
       ".cython.score-211 {background-color: #FFFF0b;}\n",
       ".cython.score-212 {background-color: #FFFF0b;}\n",
       ".cython.score-213 {background-color: #FFFF0b;}\n",
       ".cython.score-214 {background-color: #FFFF0b;}\n",
       ".cython.score-215 {background-color: #FFFF0b;}\n",
       ".cython.score-216 {background-color: #FFFF0b;}\n",
       ".cython.score-217 {background-color: #FFFF0b;}\n",
       ".cython.score-218 {background-color: #FFFF0b;}\n",
       ".cython.score-219 {background-color: #FFFF0b;}\n",
       ".cython.score-220 {background-color: #FFFF0b;}\n",
       ".cython.score-221 {background-color: #FFFF0b;}\n",
       ".cython.score-222 {background-color: #FFFF0a;}\n",
       ".cython.score-223 {background-color: #FFFF0a;}\n",
       ".cython.score-224 {background-color: #FFFF0a;}\n",
       ".cython.score-225 {background-color: #FFFF0a;}\n",
       ".cython.score-226 {background-color: #FFFF0a;}\n",
       ".cython.score-227 {background-color: #FFFF0a;}\n",
       ".cython.score-228 {background-color: #FFFF0a;}\n",
       ".cython.score-229 {background-color: #FFFF0a;}\n",
       ".cython.score-230 {background-color: #FFFF0a;}\n",
       ".cython.score-231 {background-color: #FFFF0a;}\n",
       ".cython.score-232 {background-color: #FFFF0a;}\n",
       ".cython.score-233 {background-color: #FFFF0a;}\n",
       ".cython.score-234 {background-color: #FFFF0a;}\n",
       ".cython.score-235 {background-color: #FFFF0a;}\n",
       ".cython.score-236 {background-color: #FFFF0a;}\n",
       ".cython.score-237 {background-color: #FFFF0a;}\n",
       ".cython.score-238 {background-color: #FFFF0a;}\n",
       ".cython.score-239 {background-color: #FFFF0a;}\n",
       ".cython.score-240 {background-color: #FFFF0a;}\n",
       ".cython.score-241 {background-color: #FFFF0a;}\n",
       ".cython.score-242 {background-color: #FFFF0a;}\n",
       ".cython.score-243 {background-color: #FFFF0a;}\n",
       ".cython.score-244 {background-color: #FFFF0a;}\n",
       ".cython.score-245 {background-color: #FFFF0a;}\n",
       ".cython.score-246 {background-color: #FFFF09;}\n",
       ".cython.score-247 {background-color: #FFFF09;}\n",
       ".cython.score-248 {background-color: #FFFF09;}\n",
       ".cython.score-249 {background-color: #FFFF09;}\n",
       ".cython.score-250 {background-color: #FFFF09;}\n",
       ".cython.score-251 {background-color: #FFFF09;}\n",
       ".cython.score-252 {background-color: #FFFF09;}\n",
       ".cython.score-253 {background-color: #FFFF09;}\n",
       ".cython.score-254 {background-color: #FFFF09;}\n",
       "pre { line-height: 125%; }\n",
       "td.linenos .normal { color: inherit; background-color: transparent; padding-left: 5px; padding-right: 5px; }\n",
       "span.linenos { color: inherit; background-color: transparent; padding-left: 5px; padding-right: 5px; }\n",
       "td.linenos .special { color: #000000; background-color: #ffffc0; padding-left: 5px; padding-right: 5px; }\n",
       "span.linenos.special { color: #000000; background-color: #ffffc0; padding-left: 5px; padding-right: 5px; }\n",
       ".cython .hll { background-color: #ffffcc }\n",
       ".cython { background: #f8f8f8; }\n",
       ".cython .c { color: #3D7B7B; font-style: italic } /* Comment */\n",
       ".cython .err { border: 1px solid #FF0000 } /* Error */\n",
       ".cython .k { color: #008000; font-weight: bold } /* Keyword */\n",
       ".cython .o { color: #666666 } /* Operator */\n",
       ".cython .ch { color: #3D7B7B; font-style: italic } /* Comment.Hashbang */\n",
       ".cython .cm { color: #3D7B7B; font-style: italic } /* Comment.Multiline */\n",
       ".cython .cp { color: #9C6500 } /* Comment.Preproc */\n",
       ".cython .cpf { color: #3D7B7B; font-style: italic } /* Comment.PreprocFile */\n",
       ".cython .c1 { color: #3D7B7B; font-style: italic } /* Comment.Single */\n",
       ".cython .cs { color: #3D7B7B; font-style: italic } /* Comment.Special */\n",
       ".cython .gd { color: #A00000 } /* Generic.Deleted */\n",
       ".cython .ge { font-style: italic } /* Generic.Emph */\n",
       ".cython .gr { color: #E40000 } /* Generic.Error */\n",
       ".cython .gh { color: #000080; font-weight: bold } /* Generic.Heading */\n",
       ".cython .gi { color: #008400 } /* Generic.Inserted */\n",
       ".cython .go { color: #717171 } /* Generic.Output */\n",
       ".cython .gp { color: #000080; font-weight: bold } /* Generic.Prompt */\n",
       ".cython .gs { font-weight: bold } /* Generic.Strong */\n",
       ".cython .gu { color: #800080; font-weight: bold } /* Generic.Subheading */\n",
       ".cython .gt { color: #0044DD } /* Generic.Traceback */\n",
       ".cython .kc { color: #008000; font-weight: bold } /* Keyword.Constant */\n",
       ".cython .kd { color: #008000; font-weight: bold } /* Keyword.Declaration */\n",
       ".cython .kn { color: #008000; font-weight: bold } /* Keyword.Namespace */\n",
       ".cython .kp { color: #008000 } /* Keyword.Pseudo */\n",
       ".cython .kr { color: #008000; font-weight: bold } /* Keyword.Reserved */\n",
       ".cython .kt { color: #B00040 } /* Keyword.Type */\n",
       ".cython .m { color: #666666 } /* Literal.Number */\n",
       ".cython .s { color: #BA2121 } /* Literal.String */\n",
       ".cython .na { color: #687822 } /* Name.Attribute */\n",
       ".cython .nb { color: #008000 } /* Name.Builtin */\n",
       ".cython .nc { color: #0000FF; font-weight: bold } /* Name.Class */\n",
       ".cython .no { color: #880000 } /* Name.Constant */\n",
       ".cython .nd { color: #AA22FF } /* Name.Decorator */\n",
       ".cython .ni { color: #717171; font-weight: bold } /* Name.Entity */\n",
       ".cython .ne { color: #CB3F38; font-weight: bold } /* Name.Exception */\n",
       ".cython .nf { color: #0000FF } /* Name.Function */\n",
       ".cython .nl { color: #767600 } /* Name.Label */\n",
       ".cython .nn { color: #0000FF; font-weight: bold } /* Name.Namespace */\n",
       ".cython .nt { color: #008000; font-weight: bold } /* Name.Tag */\n",
       ".cython .nv { color: #19177C } /* Name.Variable */\n",
       ".cython .ow { color: #AA22FF; font-weight: bold } /* Operator.Word */\n",
       ".cython .w { color: #bbbbbb } /* Text.Whitespace */\n",
       ".cython .mb { color: #666666 } /* Literal.Number.Bin */\n",
       ".cython .mf { color: #666666 } /* Literal.Number.Float */\n",
       ".cython .mh { color: #666666 } /* Literal.Number.Hex */\n",
       ".cython .mi { color: #666666 } /* Literal.Number.Integer */\n",
       ".cython .mo { color: #666666 } /* Literal.Number.Oct */\n",
       ".cython .sa { color: #BA2121 } /* Literal.String.Affix */\n",
       ".cython .sb { color: #BA2121 } /* Literal.String.Backtick */\n",
       ".cython .sc { color: #BA2121 } /* Literal.String.Char */\n",
       ".cython .dl { color: #BA2121 } /* Literal.String.Delimiter */\n",
       ".cython .sd { color: #BA2121; font-style: italic } /* Literal.String.Doc */\n",
       ".cython .s2 { color: #BA2121 } /* Literal.String.Double */\n",
       ".cython .se { color: #AA5D1F; font-weight: bold } /* Literal.String.Escape */\n",
       ".cython .sh { color: #BA2121 } /* Literal.String.Heredoc */\n",
       ".cython .si { color: #A45A77; font-weight: bold } /* Literal.String.Interpol */\n",
       ".cython .sx { color: #008000 } /* Literal.String.Other */\n",
       ".cython .sr { color: #A45A77 } /* Literal.String.Regex */\n",
       ".cython .s1 { color: #BA2121 } /* Literal.String.Single */\n",
       ".cython .ss { color: #19177C } /* Literal.String.Symbol */\n",
       ".cython .bp { color: #008000 } /* Name.Builtin.Pseudo */\n",
       ".cython .fm { color: #0000FF } /* Name.Function.Magic */\n",
       ".cython .vc { color: #19177C } /* Name.Variable.Class */\n",
       ".cython .vg { color: #19177C } /* Name.Variable.Global */\n",
       ".cython .vi { color: #19177C } /* Name.Variable.Instance */\n",
       ".cython .vm { color: #19177C } /* Name.Variable.Magic */\n",
       ".cython .il { color: #666666 } /* Literal.Number.Integer.Long */\n",
       "    </style>\n",
       "</head>\n",
       "<body class=\"cython\">\n",
       "<p><span style=\"border-bottom: solid 1px grey;\">Generated by Cython 0.29.32</span></p>\n",
       "<p>\n",
       "    <span style=\"background-color: #FFFF00\">Yellow lines</span> hint at Python interaction.<br />\n",
       "    Click on a line that starts with a \"<code>+</code>\" to see the C code that Cython generated for it.\n",
       "</p>\n",
       "<div class=\"cython\"><pre class=\"cython line score-23\" onclick=\"(function(s){s.display=s.display==='block'?'none':'block'})(this.nextElementSibling.style)\">+<span class=\"\">1</span>: <span class=\"k\">def</span> <span class=\"nf\">fib3</span><span class=\"p\">(</span><span class=\"nb\">int</span> <span class=\"n\">N</span><span class=\"p\">):</span></pre>\n",
       "<pre class='cython code score-23 '>/* Python wrapper */\n",
       "static PyObject *__pyx_pw_46_cython_magic_4993e823f81a54c667b16ca8ff26867c_1fib3(PyObject *__pyx_self, PyObject *__pyx_arg_N); /*proto*/\n",
       "static PyMethodDef __pyx_mdef_46_cython_magic_4993e823f81a54c667b16ca8ff26867c_1fib3 = {\"fib3\", (PyCFunction)__pyx_pw_46_cython_magic_4993e823f81a54c667b16ca8ff26867c_1fib3, METH_O, 0};\n",
       "static PyObject *__pyx_pw_46_cython_magic_4993e823f81a54c667b16ca8ff26867c_1fib3(PyObject *__pyx_self, PyObject *__pyx_arg_N) {\n",
       "  int __pyx_v_N;\n",
       "  PyObject *__pyx_r = 0;\n",
       "  <span class='refnanny'>__Pyx_RefNannyDeclarations</span>\n",
       "  <span class='refnanny'>__Pyx_RefNannySetupContext</span>(\"fib3 (wrapper)\", 0);\n",
       "  assert(__pyx_arg_N); {\n",
       "    __pyx_v_N = <span class='pyx_c_api'>__Pyx_PyInt_As_int</span>(__pyx_arg_N); if (unlikely((__pyx_v_N == (int)-1) &amp;&amp; <span class='py_c_api'>PyErr_Occurred</span>())) <span class='error_goto'>__PYX_ERR(0, 1, __pyx_L3_error)</span>\n",
       "  }\n",
       "  goto __pyx_L4_argument_unpacking_done;\n",
       "  __pyx_L3_error:;\n",
       "  <span class='pyx_c_api'>__Pyx_AddTraceback</span>(\"_cython_magic_4993e823f81a54c667b16ca8ff26867c.fib3\", __pyx_clineno, __pyx_lineno, __pyx_filename);\n",
       "  <span class='refnanny'>__Pyx_RefNannyFinishContext</span>();\n",
       "  return NULL;\n",
       "  __pyx_L4_argument_unpacking_done:;\n",
       "  __pyx_r = __pyx_pf_46_cython_magic_4993e823f81a54c667b16ca8ff26867c_fib3(__pyx_self, ((int)__pyx_v_N));\n",
       "  int __pyx_lineno = 0;\n",
       "  const char *__pyx_filename = NULL;\n",
       "  int __pyx_clineno = 0;\n",
       "\n",
       "  /* function exit code */\n",
       "  <span class='refnanny'>__Pyx_RefNannyFinishContext</span>();\n",
       "  return __pyx_r;\n",
       "}\n",
       "\n",
       "static PyObject *__pyx_pf_46_cython_magic_4993e823f81a54c667b16ca8ff26867c_fib3(CYTHON_UNUSED PyObject *__pyx_self, int __pyx_v_N) {\n",
       "  CYTHON_UNUSED int __pyx_v_i;\n",
       "  int __pyx_v_a;\n",
       "  int __pyx_v_b;\n",
       "  PyObject *__pyx_r = NULL;\n",
       "  <span class='refnanny'>__Pyx_RefNannyDeclarations</span>\n",
       "  <span class='refnanny'>__Pyx_RefNannySetupContext</span>(\"fib3\", 0);\n",
       "/* … */\n",
       "  /* function exit code */\n",
       "  __pyx_L1_error:;\n",
       "  <span class='pyx_macro_api'>__Pyx_XDECREF</span>(__pyx_t_6);\n",
       "  <span class='pyx_c_api'>__Pyx_AddTraceback</span>(\"_cython_magic_4993e823f81a54c667b16ca8ff26867c.fib3\", __pyx_clineno, __pyx_lineno, __pyx_filename);\n",
       "  __pyx_r = NULL;\n",
       "  __pyx_L0:;\n",
       "  <span class='refnanny'>__Pyx_XGIVEREF</span>(__pyx_r);\n",
       "  <span class='refnanny'>__Pyx_RefNannyFinishContext</span>();\n",
       "  return __pyx_r;\n",
       "}\n",
       "/* … */\n",
       "  __pyx_tuple_ = <span class='py_c_api'>PyTuple_Pack</span>(5, __pyx_n_s_N, __pyx_n_s_N, __pyx_n_s_i, __pyx_n_s_a, __pyx_n_s_b);<span class='error_goto'> if (unlikely(!__pyx_tuple_)) __PYX_ERR(0, 1, __pyx_L1_error)</span>\n",
       "  <span class='refnanny'>__Pyx_GOTREF</span>(__pyx_tuple_);\n",
       "  <span class='refnanny'>__Pyx_GIVEREF</span>(__pyx_tuple_);\n",
       "/* … */\n",
       "  __pyx_t_1 = PyCFunction_NewEx(&amp;__pyx_mdef_46_cython_magic_4993e823f81a54c667b16ca8ff26867c_1fib3, NULL, __pyx_n_s_cython_magic_4993e823f81a54c667);<span class='error_goto'> if (unlikely(!__pyx_t_1)) __PYX_ERR(0, 1, __pyx_L1_error)</span>\n",
       "  <span class='refnanny'>__Pyx_GOTREF</span>(__pyx_t_1);\n",
       "  if (<span class='py_c_api'>PyDict_SetItem</span>(__pyx_d, __pyx_n_s_fib3, __pyx_t_1) &lt; 0) <span class='error_goto'>__PYX_ERR(0, 1, __pyx_L1_error)</span>\n",
       "  <span class='pyx_macro_api'>__Pyx_DECREF</span>(__pyx_t_1); __pyx_t_1 = 0;\n",
       "</pre><pre class=\"cython line score-0\">&#xA0;<span class=\"\">2</span>:     <span class=\"k\">cdef</span> <span class=\"kt\">int</span> <span class=\"nf\">i</span></pre>\n",
       "<pre class=\"cython line score-0\" onclick=\"(function(s){s.display=s.display==='block'?'none':'block'})(this.nextElementSibling.style)\">+<span class=\"\">3</span>:     <span class=\"k\">cdef</span> <span class=\"kt\">int</span> <span class=\"nf\">a</span><span class=\"o\">=</span><span class=\"mf\">0</span><span class=\"p\">,</span><span class=\"n\">b</span><span class=\"o\">=</span><span class=\"mf\">1</span></pre>\n",
       "<pre class='cython code score-0 '>  __pyx_v_a = 0;\n",
       "  __pyx_v_b = 1;\n",
       "</pre><pre class=\"cython line score-0\" onclick=\"(function(s){s.display=s.display==='block'?'none':'block'})(this.nextElementSibling.style)\">+<span class=\"\">4</span>:     <span class=\"k\">for</span> <span class=\"n\">i</span> <span class=\"ow\">in</span> <span class=\"nb\">range</span><span class=\"p\">(</span><span class=\"n\">N</span><span class=\"p\">):</span></pre>\n",
       "<pre class='cython code score-0 '>  __pyx_t_1 = __pyx_v_N;\n",
       "  __pyx_t_2 = __pyx_t_1;\n",
       "  for (__pyx_t_3 = 0; __pyx_t_3 &lt; __pyx_t_2; __pyx_t_3+=1) {\n",
       "    __pyx_v_i = __pyx_t_3;\n",
       "</pre><pre class=\"cython line score-0\" onclick=\"(function(s){s.display=s.display==='block'?'none':'block'})(this.nextElementSibling.style)\">+<span class=\"\">5</span>:         <span class=\"n\">a</span><span class=\"p\">,</span><span class=\"n\">b</span> <span class=\"o\">=</span> <span class=\"n\">b</span><span class=\"p\">,</span><span class=\"n\">a</span><span class=\"o\">+</span><span class=\"n\">b</span></pre>\n",
       "<pre class='cython code score-0 '>    __pyx_t_4 = __pyx_v_b;\n",
       "    __pyx_t_5 = (__pyx_v_a + __pyx_v_b);\n",
       "    __pyx_v_a = __pyx_t_4;\n",
       "    __pyx_v_b = __pyx_t_5;\n",
       "  }\n",
       "</pre><pre class=\"cython line score-3\" onclick=\"(function(s){s.display=s.display==='block'?'none':'block'})(this.nextElementSibling.style)\">+<span class=\"\">6</span>:     <span class=\"k\">return</span> <span class=\"n\">a</span></pre>\n",
       "<pre class='cython code score-3 '>  <span class='pyx_macro_api'>__Pyx_XDECREF</span>(__pyx_r);\n",
       "  __pyx_t_6 = <span class='pyx_c_api'>__Pyx_PyInt_From_int</span>(__pyx_v_a);<span class='error_goto'> if (unlikely(!__pyx_t_6)) __PYX_ERR(0, 6, __pyx_L1_error)</span>\n",
       "  <span class='refnanny'>__Pyx_GOTREF</span>(__pyx_t_6);\n",
       "  __pyx_r = __pyx_t_6;\n",
       "  __pyx_t_6 = 0;\n",
       "  goto __pyx_L0;\n",
       "</pre></div></body></html>"
      ],
      "text/plain": [
       "<IPython.core.display.HTML object>"
      ]
     },
     "execution_count": 58,
     "metadata": {},
     "output_type": "execute_result"
    }
   ],
   "source": [
    "%%cython -a\n",
    "def fib3(int N):\n",
    "    cdef int i\n",
    "    cdef int a=0,b=1\n",
    "    for i in range(N):\n",
    "        a,b = b,a+b\n",
    "    return a\n"
   ]
  },
  {
   "cell_type": "markdown",
   "id": "a07b2bd4-8802-4ea5-89b8-3f03afade80c",
   "metadata": {},
   "source": [
    "**Cython types**:"
   ]
  },
  {
   "cell_type": "code",
   "execution_count": 59,
   "id": "e5b37456-e947-4aad-a5d0-193d60181a37",
   "metadata": {},
   "outputs": [],
   "source": [
    "%%cython\n",
    "cdef char i=1           # Oddly an 8 bit integer (-128 to 127) \n",
    "cdef short j=2          # 16 bit integer (-32,768 to 32,767)\n",
    "cdef int k=3            # 32 bit integer (-2,147,483,648 to 2,147,483,647)\n",
    "cdef unsigned int l=4   # 32 bit +ve integer (0 to 4,294,967,295), \"unsigned\" can go infront of all numeric types\n",
    "cdef long int m=5       # 64 bit integer (-9,223,372,036,854,775,808 to 9,223,372,036,854,775,807)\n",
    "cdef float x=0.0        # 32 bit float (6 decimal places, max exponent 38)\n",
    "cdef double y = 0e0     # 64 bit float (12 decimal places, max exponent 1023)\n",
    "cdef list list1 = [1,2,3]       # just a normal list (not much performance gain)"
   ]
  },
  {
   "cell_type": "markdown",
   "id": "73505622-f7ab-4347-b1a3-b33e5135567a",
   "metadata": {},
   "source": [
    "Of course, this means we need to worry about overflow again:"
   ]
  },
  {
   "cell_type": "code",
   "execution_count": 60,
   "id": "2af8f0a5-a53a-4e61-a322-df58729b5892",
   "metadata": {},
   "outputs": [
    {
     "name": "stdout",
     "output_type": "stream",
     "text": [
      "-25536\n"
     ]
    }
   ],
   "source": [
    "%%cython\n",
    "cdef short j\n",
    "j = 200**2\n",
    "print(j)"
   ]
  },
  {
   "cell_type": "code",
   "execution_count": 61,
   "id": "02f21198-80fa-4e2e-951b-fdc1a0e3ead8",
   "metadata": {},
   "outputs": [
    {
     "name": "stdout",
     "output_type": "stream",
     "text": [
      "4294967295\n"
     ]
    }
   ],
   "source": [
    "%%cython\n",
    "cdef unsigned int j\n",
    "j = -1\n",
    "print(j)\n"
   ]
  },
  {
   "cell_type": "markdown",
   "id": "47c6cf3a-79a5-4347-b857-9df88cae2c7d",
   "metadata": {},
   "source": [
    "Strings are stored completely differently in C, so cdef doesn't help. It's best just to keep strings as python variables."
   ]
  },
  {
   "cell_type": "code",
   "execution_count": 63,
   "id": "edd4e281-9139-48eb-a872-66ca0d976fd8",
   "metadata": {},
   "outputs": [
    {
     "name": "stdout",
     "output_type": "stream",
     "text": [
      "Hello\n"
     ]
    }
   ],
   "source": [
    "%%cython\n",
    "#an example of if you need C strings\n",
    "def test(input):\n",
    "    input_byte = input.encode('utf-8')\n",
    "    cdef char* c_string = input_byte\n",
    "    cdef bytes py_string_byte = c_string\n",
    "    output = py_string_byte.decode('utf-8')\n",
    "    print(output)\n",
    "test('Hello')"
   ]
  },
  {
   "cell_type": "markdown",
   "id": "86d4f410-3573-4796-9f0d-4108e76ea7e4",
   "metadata": {},
   "source": [
    "We can also use standard c math library:"
   ]
  },
  {
   "cell_type": "code",
   "execution_count": 70,
   "id": "d0cfb514-c966-4aba-8226-62e69ebdb9eb",
   "metadata": {},
   "outputs": [],
   "source": [
    "%%cython\n",
    "from libc.math cimport sin\n",
    "\n",
    "def sin_c(double x):\n",
    "    return sin(x)"
   ]
  },
  {
   "cell_type": "code",
   "execution_count": 71,
   "id": "baf03e9e-b9b0-4b21-8239-90baea22dd1c",
   "metadata": {},
   "outputs": [
    {
     "name": "stdout",
     "output_type": "stream",
     "text": [
      "109 ns ± 5.92 ns per loop (mean ± std. dev. of 7 runs, 10,000,000 loops each)\n",
      "63 ns ± 2.4 ns per loop (mean ± std. dev. of 7 runs, 10,000,000 loops each)\n"
     ]
    }
   ],
   "source": [
    "import math\n",
    "x = 0.5\n",
    "%timeit math.sin(x)\n",
    "%timeit sin_c(x)"
   ]
  },
  {
   "cell_type": "markdown",
   "id": "516fc804-2a87-4d1d-9023-b350ac8382b1",
   "metadata": {},
   "source": [
    "You can mix cython and numpy arrays, but numpy is already in c, so the speed up won't be too big."
   ]
  },
  {
   "cell_type": "markdown",
   "id": "87812f39-7616-4ffb-a205-d60959eecc2e",
   "metadata": {},
   "source": [
    "**Cython for scripts and some introduction to creating modules:**"
   ]
  },
  {
   "cell_type": "markdown",
   "id": "2bcd365d-806d-4702-8fa6-0d733a16f56f",
   "metadata": {},
   "source": [
    "Put your cython code in a file with extension `.pyx` like `cython_module.pyx`: (this will actually create a file for us)"
   ]
  },
  {
   "cell_type": "code",
   "execution_count": 73,
   "id": "fa48d26c-bd9a-4e7b-8ad6-8532817c4bae",
   "metadata": {},
   "outputs": [
    {
     "name": "stdout",
     "output_type": "stream",
     "text": [
      "Writing cython_module.pyx\n"
     ]
    }
   ],
   "source": [
    "%%file cython_module.pyx\n",
    "\"\"\"\n",
    "Cython code for fibonnaci numbers\n",
    "\"\"\"\n",
    "cpdef int fibonacci(int N):\n",
    "    cdef int i\n",
    "    cdef int a=0,b=1\n",
    "    for i in range(N):\n",
    "        a,b = b,a+b\n",
    "    return a\n"
   ]
  },
  {
   "cell_type": "markdown",
   "id": "58c30cf7-2332-4f67-8e38-c408442c2336",
   "metadata": {},
   "source": [
    "Create a file called setup.py with the following:"
   ]
  },
  {
   "cell_type": "code",
   "execution_count": 81,
   "id": "0e6d697b-b4ae-409f-aa76-545eb70370ab",
   "metadata": {},
   "outputs": [
    {
     "name": "stdout",
     "output_type": "stream",
     "text": [
      "Overwriting setup.py\n"
     ]
    }
   ],
   "source": [
    "%%file setup.py\n",
    "from distutils.core import setup\n",
    "from Cython.Build import cythonize\n",
    "\n",
    "setup(\n",
    "    ext_modules = cythonize(\"cython_module.pyx\",language_level = \"3\")\n",
    ")\n"
   ]
  },
  {
   "cell_type": "markdown",
   "id": "9284d9c3-b1fd-4302-8773-5e8ae36b1f79",
   "metadata": {},
   "source": [
    "compile the code:"
   ]
  },
  {
   "cell_type": "code",
   "execution_count": 82,
   "id": "7d107adb-cbfe-4e05-a6e1-48bff9ba0db8",
   "metadata": {},
   "outputs": [
    {
     "name": "stdout",
     "output_type": "stream",
     "text": [
      "running build_ext\n"
     ]
    }
   ],
   "source": [
    "%%bash\n",
    "python3 setup.py build_ext --inplace"
   ]
  },
  {
   "cell_type": "markdown",
   "id": "f3d40589-a110-402c-a8f4-f716e1c33202",
   "metadata": {},
   "source": [
    "Now you can use the new functions:"
   ]
  },
  {
   "cell_type": "code",
   "execution_count": 83,
   "id": "312a96ac-81d7-494e-b398-2c61c2b4296a",
   "metadata": {},
   "outputs": [
    {
     "data": {
      "text/plain": [
       "55"
      ]
     },
     "execution_count": 83,
     "metadata": {},
     "output_type": "execute_result"
    }
   ],
   "source": [
    "import cython_module as cym\n",
    "cym.fibonacci(10)"
   ]
  },
  {
   "cell_type": "markdown",
   "id": "f3572e1d-849a-4ce8-9393-8c349ea8d468",
   "metadata": {},
   "source": [
    "**We will come back to cython in the next lecture, this was just an introduction to give you the \"taste\"**\n",
    "The rest of this lecture is devoted to `pibind` and can be found in the folder `pybind11`"
   ]
  }
 ],
 "metadata": {
  "kernelspec": {
   "display_name": "Python 3 (ipykernel)",
   "language": "python",
   "name": "python3"
  },
  "language_info": {
   "codemirror_mode": {
    "name": "ipython",
    "version": 3
   },
   "file_extension": ".py",
   "mimetype": "text/x-python",
   "name": "python",
   "nbconvert_exporter": "python",
   "pygments_lexer": "ipython3",
   "version": "3.10.8"
  }
 },
 "nbformat": 4,
 "nbformat_minor": 5
}
