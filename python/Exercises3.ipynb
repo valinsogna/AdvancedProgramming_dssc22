{
 "cells": [
  {
   "cell_type": "markdown",
   "id": "d11517f7-d25e-4ddd-8cf5-95cf809e8bb5",
   "metadata": {},
   "source": [
    "### **Exercise1:**\n",
    "\n",
    "Create your own class for complex numbers, just like you would in c++. Make sure all the arithmetic operations work (yes, this is another useless exercise to play with the syntax)."
   ]
  },
  {
   "cell_type": "markdown",
   "id": "ea29074e-7dd7-48c6-bfd9-03860cffc268",
   "metadata": {},
   "source": [
    "### **Exercise2:**\n",
    "\n",
    "Rewrite your jacobi solution from the previous exerxise set with classes (you can follow the same layout as the c++ solution)."
   ]
  },
  {
   "cell_type": "markdown",
   "id": "a3f9dbca-8146-41ae-a859-792866cd4419",
   "metadata": {},
   "source": [
    "### **Exercise3:**\n",
    "\n",
    "Write a `cython` module with a function that solves the quadratic equation (you don't need to use classes here for now)"
   ]
  },
  {
   "cell_type": "markdown",
   "id": "00f9ee84-b578-4187-936a-225ddaef1f74",
   "metadata": {},
   "source": [
    "### **Exercise4:**\n",
    "\n",
    "Use `pibind` to call the c++ code for jacobi (from the the extra_exercises solutions) "
   ]
  },
  {
   "cell_type": "code",
   "execution_count": null,
   "id": "06510615-d3b2-45e7-83c5-92f32ed88332",
   "metadata": {},
   "outputs": [],
   "source": []
  }
 ],
 "metadata": {
  "kernelspec": {
   "display_name": "Python 3 (ipykernel)",
   "language": "python",
   "name": "python3"
  },
  "language_info": {
   "codemirror_mode": {
    "name": "ipython",
    "version": 3
   },
   "file_extension": ".py",
   "mimetype": "text/x-python",
   "name": "python",
   "nbconvert_exporter": "python",
   "pygments_lexer": "ipython3",
   "version": "3.10.8"
  }
 },
 "nbformat": 4,
 "nbformat_minor": 5
}
