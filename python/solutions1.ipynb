{
 "cells": [
  {
   "cell_type": "markdown",
   "metadata": {},
   "source": [
    "### **Exercise 1:**\n",
    "The Recamán sequence is a famous sequence invented by the Colombian mathematician, Bernardo Recamán Santos. It is defined by the following algorithm, starting at $a_0=0$:\n",
    "\n",
    "$ a_n=a_{n-1}−n$ if $a_{n-1}-n > 0  $ and has not already appeared in the sequence; \n",
    "\n",
    "$ a_n=a_{n−1}+n$ otherwise\n",
    "\n",
    "Write a function that returns the first N elements of this sequence."
   ]
  },
  {
   "cell_type": "code",
   "execution_count": 2,
   "metadata": {},
   "outputs": [],
   "source": [
    "def recaman(max_terms):\n",
    "    exist = set()\n",
    "    seq=list()\n",
    "    n = 0 \n",
    "    a = 0\n",
    "    while n < max_terms:\n",
    "        diff=a-n\n",
    "        if diff > 0 and diff not in exist:\n",
    "            a = diff\n",
    "        else:\n",
    "            a = a + n\n",
    "        exist.add(a)\n",
    "        seq.append(a)\n",
    "        n += 1\n",
    "    return seq\n"
   ]
  },
  {
   "cell_type": "code",
   "execution_count": 3,
   "metadata": {},
   "outputs": [],
   "source": [
    "def recaman2(max_terms):\n",
    "    seq=list()\n",
    "    n = 0 \n",
    "    a = 0\n",
    "    while n < max_terms:\n",
    "        diff=a-n\n",
    "        if diff > 0 and diff not in seq:\n",
    "            a = diff\n",
    "        else:\n",
    "            a = a + n\n",
    "        seq.append(a)\n",
    "        n += 1\n",
    "    return seq\n"
   ]
  },
  {
   "cell_type": "code",
   "execution_count": 7,
   "metadata": {},
   "outputs": [],
   "source": [
    "#naive way with numpy (this comes from lecture2 and wasn't initial goal)\n",
    "import numpy as np\n",
    "def recaman3(max_terms):\n",
    "    seq=np.array([])\n",
    "    n = 0 \n",
    "    a = 0\n",
    "    while n < max_terms:\n",
    "        diff=a-n\n",
    "        if diff > 0 and diff not in seq:\n",
    "            a = diff\n",
    "        else:\n",
    "            a = a + n\n",
    "        seq=np.append(seq,a)\n",
    "        n += 1\n",
    "    return seq"
   ]
  },
  {
   "cell_type": "code",
   "execution_count": 12,
   "metadata": {},
   "outputs": [],
   "source": [
    "#even more naive numpy\n",
    "def recaman4(max_terms):\n",
    "    seq=np.array([])\n",
    "    exist = np.unique([])\n",
    "    n = 0 \n",
    "    a = 0\n",
    "    while n < max_terms:\n",
    "        diff=a-n\n",
    "        if diff > 0 and diff not in exist:\n",
    "            a = diff\n",
    "        else:\n",
    "            a = a + n\n",
    "        seq=np.append(seq,a)\n",
    "        exist=np.append(exist,a)\n",
    "        n += 1\n",
    "    return seq"
   ]
  },
  {
   "cell_type": "code",
   "execution_count": 13,
   "metadata": {},
   "outputs": [],
   "source": [
    "#mixture of numpy and sets\n",
    "def recaman5(max_terms):\n",
    "    seq=np.empty(max_terms)\n",
    "    exist = set([])\n",
    "    n = 0 \n",
    "    a = 0\n",
    "    while n < max_terms:\n",
    "        diff=a-n\n",
    "        if diff > 0 and diff not in exist:\n",
    "            a = diff\n",
    "        else:\n",
    "            a = a + n\n",
    "        seq[n]=a\n",
    "        exist.add(a)\n",
    "        n += 1\n",
    "    return seq"
   ]
  },
  {
   "cell_type": "code",
   "execution_count": 14,
   "metadata": {},
   "outputs": [
    {
     "name": "stdout",
     "output_type": "stream",
     "text": [
      "[0, 1, 3, 6, 2, 7, 13, 20, 12, 21, 11, 22, 10, 23, 9, 24, 8, 25, 43, 62, 42, 63, 41, 18, 42, 17, 43, 16, 44, 15]\n",
      "[0, 1, 3, 6, 2, 7, 13, 20, 12, 21, 11, 22, 10, 23, 9, 24, 8, 25, 43, 62, 42, 63, 41, 18, 42, 17, 43, 16, 44, 15]\n",
      "[ 0.  1.  3.  6.  2.  7. 13. 20. 12. 21. 11. 22. 10. 23.  9. 24.  8. 25.\n",
      " 43. 62. 42. 63. 41. 18. 42. 17. 43. 16. 44. 15.]\n",
      "[ 0.  1.  3.  6.  2.  7. 13. 20. 12. 21. 11. 22. 10. 23.  9. 24.  8. 25.\n",
      " 43. 62. 42. 63. 41. 18. 42. 17. 43. 16. 44. 15.]\n",
      "[ 0.  1.  3.  6.  2.  7. 13. 20. 12. 21. 11. 22. 10. 23.  9. 24.  8. 25.\n",
      " 43. 62. 42. 63. 41. 18. 42. 17. 43. 16. 44. 15.]\n"
     ]
    }
   ],
   "source": [
    "print(recaman(30))\n",
    "print(recaman2(30))\n",
    "print(recaman3(30))\n",
    "print(recaman4(30))\n",
    "print(recaman5(30))"
   ]
  },
  {
   "cell_type": "code",
   "execution_count": 66,
   "metadata": {},
   "outputs": [
    {
     "name": "stdout",
     "output_type": "stream",
     "text": [
      "14.1 ms ± 892 µs per loop (mean ± std. dev. of 7 runs, 100 loops each)\n"
     ]
    }
   ],
   "source": [
    "%%timeit #with sets\n",
    "recaman(30000)"
   ]
  },
  {
   "cell_type": "code",
   "execution_count": 67,
   "metadata": {},
   "outputs": [
    {
     "name": "stdout",
     "output_type": "stream",
     "text": [
      "4.37 s ± 27.8 ms per loop (mean ± std. dev. of 7 runs, 1 loop each)\n"
     ]
    }
   ],
   "source": [
    "%%timeit #naive pure python\n",
    "recaman2(30000)"
   ]
  },
  {
   "cell_type": "code",
   "execution_count": 9,
   "metadata": {},
   "outputs": [
    {
     "name": "stdout",
     "output_type": "stream",
     "text": [
      "733 ms ± 4.99 ms per loop (mean ± std. dev. of 7 runs, 1 loop each)\n"
     ]
    }
   ],
   "source": [
    "%%timeit #naive numpy\n",
    "recaman3(30000)"
   ]
  },
  {
   "cell_type": "code",
   "execution_count": 15,
   "metadata": {},
   "outputs": [
    {
     "name": "stdout",
     "output_type": "stream",
     "text": [
      "1.2 s ± 11.5 ms per loop (mean ± std. dev. of 7 runs, 1 loop each)\n"
     ]
    }
   ],
   "source": [
    "%%timeit #worse numpy\n",
    "recaman4(30000)"
   ]
  },
  {
   "cell_type": "code",
   "execution_count": 16,
   "metadata": {},
   "outputs": [
    {
     "name": "stdout",
     "output_type": "stream",
     "text": [
      "12.2 ms ± 66.8 µs per loop (mean ± std. dev. of 7 runs, 100 loops each)\n"
     ]
    }
   ],
   "source": [
    "%%timeit #numpy and normal sets\n",
    "recaman5(30000)"
   ]
  },
  {
   "cell_type": "markdown",
   "metadata": {},
   "source": [
    "**please tell me if you come up with faster solutions, and I'll put them here**"
   ]
  },
  {
   "cell_type": "markdown",
   "metadata": {},
   "source": [
    "### **Exercise 2:**\n",
    "Write a function to solve a quadratic equation."
   ]
  },
  {
   "cell_type": "code",
   "execution_count": 44,
   "metadata": {},
   "outputs": [
    {
     "name": "stdout",
     "output_type": "stream",
     "text": [
      "((-1-1.4142135623730951j), (-0.9999999999999999+1.4142135623730951j))\n",
      "(-1.0, -1.0)\n"
     ]
    }
   ],
   "source": [
    "def qsolver(a,b,c):\n",
    "    return -b/2-((b*b-4*a*c)**0.5)/2, -b/2+((b*b-4*a*c)**0.5)/2\n",
    "print(qsolver(1,2,3))\n",
    "print(qsolver(1,2,1))"
   ]
  },
  {
   "cell_type": "markdown",
   "metadata": {},
   "source": [
    "### **Exercise 3**\n",
    "Print the list `mylist` sorted in descending order. The original list should not be modified"
   ]
  },
  {
   "cell_type": "code",
   "execution_count": 5,
   "metadata": {},
   "outputs": [],
   "source": [
    "mylist=[1,-99,89,0,234,77,-748,11]"
   ]
  },
  {
   "cell_type": "code",
   "execution_count": 7,
   "metadata": {},
   "outputs": [
    {
     "name": "stdout",
     "output_type": "stream",
     "text": [
      "[234, 89, 77, 11, 1, 0, -99, -748]\n",
      "[1, -99, 89, 0, 234, 77, -748, 11]\n"
     ]
    }
   ],
   "source": [
    "print(sorted(mylist)[::-1])\n",
    "print(mylist)"
   ]
  },
  {
   "cell_type": "markdown",
   "metadata": {},
   "source": [
    "### **Exercise 4:**\n",
    "Given 2 lists, produce a list containing common items between the two."
   ]
  },
  {
   "cell_type": "code",
   "execution_count": 43,
   "metadata": {},
   "outputs": [
    {
     "name": "stdout",
     "output_type": "stream",
     "text": [
      "[1, 99, 7]\n"
     ]
    }
   ],
   "source": [
    "l1=[1,45,6,7,7,65,0,99]\n",
    "l2=[1,55,7,99,765,1,4]\n",
    "s1=set(l1)\n",
    "s2=set(l2)\n",
    "l3=list(s1.intersection(s2))\n",
    "print(l3)"
   ]
  },
  {
   "cell_type": "markdown",
   "metadata": {},
   "source": [
    "### **Exercise 5:**\n",
    "Create a function that returns a list of all pairs of factors (as tuples) using list comprehension."
   ]
  },
  {
   "cell_type": "code",
   "execution_count": 46,
   "metadata": {},
   "outputs": [
    {
     "name": "stdout",
     "output_type": "stream",
     "text": [
      "[(1, 362880), (2, 181440), (3, 120960), (4, 90720), (5, 72576), (6, 60480), (7, 51840), (8, 45360), (9, 40320), (10, 36288), (12, 30240), (14, 25920), (15, 24192), (16, 22680), (18, 20160), (20, 18144), (21, 17280), (24, 15120), (27, 13440), (28, 12960), (30, 12096), (32, 11340), (35, 10368), (36, 10080), (40, 9072), (42, 8640), (45, 8064), (48, 7560), (54, 6720), (56, 6480), (60, 6048), (63, 5760), (64, 5670), (70, 5184), (72, 5040), (80, 4536), (81, 4480), (84, 4320), (90, 4032), (96, 3780), (105, 3456), (108, 3360), (112, 3240), (120, 3024), (126, 2880), (128, 2835), (135, 2688), (140, 2592), (144, 2520), (160, 2268), (162, 2240), (168, 2160), (180, 2016), (189, 1920), (192, 1890), (210, 1728), (216, 1680), (224, 1620), (240, 1512), (252, 1440), (270, 1344), (280, 1296), (288, 1260), (315, 1152), (320, 1134), (324, 1120), (336, 1080), (360, 1008), (378, 960), (384, 945), (405, 896), (420, 864), (432, 840), (448, 810), (480, 756), (504, 720), (540, 672), (560, 648), (567, 640), (576, 630)]\n"
     ]
    }
   ],
   "source": [
    "def factors(val):\n",
    "    return [(i, int(val / i)) for i in range(1, int(val**0.5)+1) if val % i == 0]\n",
    "print(factors(362880))"
   ]
  },
  {
   "cell_type": "markdown",
   "metadata": {},
   "source": [
    "### **Exercise 5:**\n",
    "Create a list of all numbers divisible by 3 and smaller than 1000 in 4 different ways:\n",
    " \n",
    " - naive way where you just create a list and append data in a loop\n",
    " - using list comprehension\n",
    " - slicing an existing list\n",
    " - directly with `range()`\n",
    "\n",
    "Time all of them."
   ]
  },
  {
   "cell_type": "code",
   "execution_count": 20,
   "metadata": {},
   "outputs": [
    {
     "name": "stdout",
     "output_type": "stream",
     "text": [
      "85.8 µs ± 508 ns per loop (mean ± std. dev. of 7 runs, 10000 loops each)\n"
     ]
    }
   ],
   "source": [
    "%%timeit\n",
    "l=[]\n",
    "for i in range(1000):\n",
    "    if i%3==0:\n",
    "        l.append(i)"
   ]
  },
  {
   "cell_type": "code",
   "execution_count": 14,
   "metadata": {},
   "outputs": [
    {
     "name": "stdout",
     "output_type": "stream",
     "text": [
      "64.6 µs ± 3.4 µs per loop (mean ± std. dev. of 7 runs, 10000 loops each)\n"
     ]
    }
   ],
   "source": [
    "%%timeit\n",
    "l=[x for x in range(1000) if x%3==0]"
   ]
  },
  {
   "cell_type": "code",
   "execution_count": 15,
   "metadata": {},
   "outputs": [
    {
     "name": "stdout",
     "output_type": "stream",
     "text": [
      "17 µs ± 174 ns per loop (mean ± std. dev. of 7 runs, 100000 loops each)\n"
     ]
    }
   ],
   "source": [
    "%%timeit\n",
    "l=list(range(1000))[::3]"
   ]
  },
  {
   "cell_type": "code",
   "execution_count": 16,
   "metadata": {},
   "outputs": [
    {
     "name": "stdout",
     "output_type": "stream",
     "text": [
      "5.48 µs ± 16.2 ns per loop (mean ± std. dev. of 7 runs, 100000 loops each)\n"
     ]
    }
   ],
   "source": [
    "%%timeit\n",
    "l=list(range(0,1000,3))"
   ]
  },
  {
   "cell_type": "markdown",
   "metadata": {},
   "source": [
    "### **Exercise 6:**\n",
    "Write a function to check if a string (containing spaces and capital letters, but no punctuation marks) is a palindrome (use help to see which functions are available for a string). "
   ]
  },
  {
   "cell_type": "code",
   "execution_count": 32,
   "metadata": {},
   "outputs": [],
   "source": [
    "def checkPalindrome(s):\n",
    "    s=\"\".join(s.split())\n",
    "    s=s.lower()\n",
    "    return s == s[::-1]"
   ]
  },
  {
   "cell_type": "code",
   "execution_count": 36,
   "metadata": {},
   "outputs": [
    {
     "name": "stdout",
     "output_type": "stream",
     "text": [
      "False\n",
      "True\n",
      "True\n",
      "True\n",
      "False\n"
     ]
    }
   ],
   "source": [
    "print(checkPalindrome(\"okjlklkjlkj kjkjk jkjkj jkjk\"))\n",
    "print(checkPalindrome(\"Rats live on no evil star\"))\n",
    "print(checkPalindrome(\"I topi non avevano nipoti\"))\n",
    "print(checkPalindrome(\"а роза упала на лапу Азора\"))\n",
    "print(checkPalindrome(\"lklkjlkjlk\"))\n"
   ]
  },
  {
   "cell_type": "markdown",
   "metadata": {},
   "source": [
    "### **Exercise 7:**\n",
    "Write a function to find a character with a maximum number of occurences in a string. Return a tuple with that character and the number. You can ignore ties. Only use string's inbuilt functions and the function `max` (use help to see how to use it)."
   ]
  },
  {
   "cell_type": "code",
   "execution_count": 39,
   "metadata": {},
   "outputs": [
    {
     "name": "stdout",
     "output_type": "stream",
     "text": [
      "('o', 8)\n"
     ]
    }
   ],
   "source": [
    "def find_max_occ(s):\n",
    "    return max([(i, s.count(i)) for i in set(s.lower())], key=lambda x: x[1])\n",
    "print(find_max_occ(\"jkjkj hihjkhkjh apwooiew oooolqpipoioqe\"))"
   ]
  },
  {
   "cell_type": "markdown",
   "metadata": {},
   "source": [
    "Exercise 8 solution coming..."
   ]
  }
 ],
 "metadata": {
  "kernelspec": {
   "display_name": "Python3.9",
   "language": "python",
   "name": "python3.9"
  },
  "language_info": {
   "codemirror_mode": {
    "name": "ipython",
    "version": 3
   },
   "file_extension": ".py",
   "mimetype": "text/x-python",
   "name": "python",
   "nbconvert_exporter": "python",
   "pygments_lexer": "ipython3",
   "version": "3.6.13"
  }
 },
 "nbformat": 4,
 "nbformat_minor": 4
}
